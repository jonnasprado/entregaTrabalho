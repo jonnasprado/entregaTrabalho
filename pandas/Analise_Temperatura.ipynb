{
 "cells": [
  {
   "cell_type": "code",
   "execution_count": 276,
   "metadata": {},
   "outputs": [],
   "source": [
    "from pymongo import MongoClient\n",
    "import pandas as pd"
   ]
  },
  {
   "cell_type": "code",
   "execution_count": 277,
   "metadata": {},
   "outputs": [],
   "source": [
    "mongo_client = MongoClient('localhost', 27017)\n",
    "mongo_db = mongo_client['inatel']\n",
    "mongo_collection = mongo_db['in242']"
   ]
  },
  {
   "cell_type": "code",
   "execution_count": 302,
   "metadata": {},
   "outputs": [],
   "source": [
    "dados = list(mongo_collection.find())\n",
    "df = pd.DataFrame(dados)"
   ]
  },
  {
   "cell_type": "code",
   "execution_count": 279,
   "metadata": {},
   "outputs": [
    {
     "data": {
      "text/html": [
       "<div>\n",
       "<style scoped>\n",
       "    .dataframe tbody tr th:only-of-type {\n",
       "        vertical-align: middle;\n",
       "    }\n",
       "\n",
       "    .dataframe tbody tr th {\n",
       "        vertical-align: top;\n",
       "    }\n",
       "\n",
       "    .dataframe thead th {\n",
       "        text-align: right;\n",
       "    }\n",
       "</style>\n",
       "<table border=\"1\" class=\"dataframe\">\n",
       "  <thead>\n",
       "    <tr style=\"text-align: right;\">\n",
       "      <th></th>\n",
       "      <th>_id</th>\n",
       "      <th>temperatura</th>\n",
       "      <th>data_coleta</th>\n",
       "    </tr>\n",
       "  </thead>\n",
       "  <tbody>\n",
       "    <tr>\n",
       "      <td>0</td>\n",
       "      <td>5d98a7ebd65a5840a8f76098</td>\n",
       "      <td>23.267567</td>\n",
       "      <td>2019-10-05 11:25:47.754</td>\n",
       "    </tr>\n",
       "    <tr>\n",
       "      <td>1</td>\n",
       "      <td>5d98a7f0d65a5840a8f76099</td>\n",
       "      <td>24.573758</td>\n",
       "      <td>2019-10-05 11:25:52.764</td>\n",
       "    </tr>\n",
       "    <tr>\n",
       "      <td>2</td>\n",
       "      <td>5d98a7f5d65a5840a8f7609a</td>\n",
       "      <td>24.390460</td>\n",
       "      <td>2019-10-05 11:25:57.767</td>\n",
       "    </tr>\n",
       "    <tr>\n",
       "      <td>3</td>\n",
       "      <td>5d98a7fad65a5840a8f7609b</td>\n",
       "      <td>23.379668</td>\n",
       "      <td>2019-10-05 11:26:02.776</td>\n",
       "    </tr>\n",
       "    <tr>\n",
       "      <td>4</td>\n",
       "      <td>5d98a7ffd65a5840a8f7609c</td>\n",
       "      <td>24.666627</td>\n",
       "      <td>2019-10-05 11:26:07.799</td>\n",
       "    </tr>\n",
       "  </tbody>\n",
       "</table>\n",
       "</div>"
      ],
      "text/plain": [
       "                        _id  temperatura             data_coleta\n",
       "0  5d98a7ebd65a5840a8f76098    23.267567 2019-10-05 11:25:47.754\n",
       "1  5d98a7f0d65a5840a8f76099    24.573758 2019-10-05 11:25:52.764\n",
       "2  5d98a7f5d65a5840a8f7609a    24.390460 2019-10-05 11:25:57.767\n",
       "3  5d98a7fad65a5840a8f7609b    23.379668 2019-10-05 11:26:02.776\n",
       "4  5d98a7ffd65a5840a8f7609c    24.666627 2019-10-05 11:26:07.799"
      ]
     },
     "execution_count": 279,
     "metadata": {},
     "output_type": "execute_result"
    }
   ],
   "source": [
    "df.head()"
   ]
  },
  {
   "cell_type": "code",
   "execution_count": 281,
   "metadata": {},
   "outputs": [
    {
     "data": {
      "text/plain": [
       "_id            3153\n",
       "temperatura    3153\n",
       "data_coleta    3153\n",
       "dtype: int64"
      ]
     },
     "execution_count": 281,
     "metadata": {},
     "output_type": "execute_result"
    }
   ],
   "source": [
    "df.count()"
   ]
  },
  {
   "cell_type": "code",
   "execution_count": 282,
   "metadata": {},
   "outputs": [
    {
     "data": {
      "text/plain": [
       "23.736967850684856"
      ]
     },
     "execution_count": 282,
     "metadata": {},
     "output_type": "execute_result"
    }
   ],
   "source": [
    "df['temperatura'].mean()"
   ]
  },
  {
   "cell_type": "code",
   "execution_count": 283,
   "metadata": {},
   "outputs": [
    {
     "data": {
      "text/plain": [
       "29.997777694055955"
      ]
     },
     "execution_count": 283,
     "metadata": {},
     "output_type": "execute_result"
    }
   ],
   "source": [
    "df['temperatura'].max()"
   ]
  },
  {
   "cell_type": "code",
   "execution_count": 284,
   "metadata": {},
   "outputs": [
    {
     "data": {
      "text/plain": [
       "17.00540524657138"
      ]
     },
     "execution_count": 284,
     "metadata": {},
     "output_type": "execute_result"
    }
   ],
   "source": [
    "df['temperatura'].min()"
   ]
  },
  {
   "cell_type": "code",
   "execution_count": 305,
   "metadata": {},
   "outputs": [],
   "source": [
    "df = df.drop(columns=['_id'])"
   ]
  },
  {
   "cell_type": "code",
   "execution_count": 286,
   "metadata": {},
   "outputs": [],
   "source": [
    "def check_temperatura(temperatura):\n",
    "    if temperatura < 21:\n",
    "        return 'Frio'\n",
    "    if temperatura < 26:\n",
    "        return 'Normal'\n",
    "    return 'Quente'"
   ]
  },
  {
   "cell_type": "code",
   "execution_count": 287,
   "metadata": {},
   "outputs": [
    {
     "data": {
      "text/plain": [
       "'Quente'"
      ]
     },
     "execution_count": 287,
     "metadata": {},
     "output_type": "execute_result"
    }
   ],
   "source": [
    "check_temperatura(32.5)"
   ]
  },
  {
   "cell_type": "code",
   "execution_count": 288,
   "metadata": {},
   "outputs": [],
   "source": [
    "df['sensacao'] = df['temperatura'].apply(check_temperatura)"
   ]
  },
  {
   "cell_type": "code",
   "execution_count": 289,
   "metadata": {},
   "outputs": [
    {
     "data": {
      "text/html": [
       "<div>\n",
       "<style scoped>\n",
       "    .dataframe tbody tr th:only-of-type {\n",
       "        vertical-align: middle;\n",
       "    }\n",
       "\n",
       "    .dataframe tbody tr th {\n",
       "        vertical-align: top;\n",
       "    }\n",
       "\n",
       "    .dataframe thead th {\n",
       "        text-align: right;\n",
       "    }\n",
       "</style>\n",
       "<table border=\"1\" class=\"dataframe\">\n",
       "  <thead>\n",
       "    <tr style=\"text-align: right;\">\n",
       "      <th></th>\n",
       "      <th>temperatura</th>\n",
       "      <th>data_coleta</th>\n",
       "      <th>sensacao</th>\n",
       "    </tr>\n",
       "  </thead>\n",
       "  <tbody>\n",
       "    <tr>\n",
       "      <td>3148</td>\n",
       "      <td>24.465962</td>\n",
       "      <td>2019-10-05 15:48:24.871</td>\n",
       "      <td>Normal</td>\n",
       "    </tr>\n",
       "    <tr>\n",
       "      <td>3149</td>\n",
       "      <td>19.580395</td>\n",
       "      <td>2019-10-05 15:48:29.878</td>\n",
       "      <td>Frio</td>\n",
       "    </tr>\n",
       "    <tr>\n",
       "      <td>3150</td>\n",
       "      <td>17.065905</td>\n",
       "      <td>2019-10-05 15:48:34.883</td>\n",
       "      <td>Frio</td>\n",
       "    </tr>\n",
       "    <tr>\n",
       "      <td>3151</td>\n",
       "      <td>24.808047</td>\n",
       "      <td>2019-10-05 15:48:39.891</td>\n",
       "      <td>Normal</td>\n",
       "    </tr>\n",
       "    <tr>\n",
       "      <td>3152</td>\n",
       "      <td>21.638686</td>\n",
       "      <td>2019-10-05 15:48:44.896</td>\n",
       "      <td>Normal</td>\n",
       "    </tr>\n",
       "  </tbody>\n",
       "</table>\n",
       "</div>"
      ],
      "text/plain": [
       "      temperatura             data_coleta sensacao\n",
       "3148    24.465962 2019-10-05 15:48:24.871   Normal\n",
       "3149    19.580395 2019-10-05 15:48:29.878     Frio\n",
       "3150    17.065905 2019-10-05 15:48:34.883     Frio\n",
       "3151    24.808047 2019-10-05 15:48:39.891   Normal\n",
       "3152    21.638686 2019-10-05 15:48:44.896   Normal"
      ]
     },
     "execution_count": 289,
     "metadata": {},
     "output_type": "execute_result"
    }
   ],
   "source": [
    "df.tail()"
   ]
  },
  {
   "cell_type": "code",
   "execution_count": 290,
   "metadata": {},
   "outputs": [
    {
     "data": {
      "text/html": [
       "<div>\n",
       "<style scoped>\n",
       "    .dataframe tbody tr th:only-of-type {\n",
       "        vertical-align: middle;\n",
       "    }\n",
       "\n",
       "    .dataframe tbody tr th {\n",
       "        vertical-align: top;\n",
       "    }\n",
       "\n",
       "    .dataframe thead th {\n",
       "        text-align: right;\n",
       "    }\n",
       "</style>\n",
       "<table border=\"1\" class=\"dataframe\">\n",
       "  <thead>\n",
       "    <tr style=\"text-align: right;\">\n",
       "      <th></th>\n",
       "      <th>temperatura</th>\n",
       "      <th>data_coleta</th>\n",
       "    </tr>\n",
       "    <tr>\n",
       "      <th>sensacao</th>\n",
       "      <th></th>\n",
       "      <th></th>\n",
       "    </tr>\n",
       "  </thead>\n",
       "  <tbody>\n",
       "    <tr>\n",
       "      <td>Frio</td>\n",
       "      <td>566</td>\n",
       "      <td>566</td>\n",
       "    </tr>\n",
       "    <tr>\n",
       "      <td>Normal</td>\n",
       "      <td>2010</td>\n",
       "      <td>2010</td>\n",
       "    </tr>\n",
       "    <tr>\n",
       "      <td>Quente</td>\n",
       "      <td>577</td>\n",
       "      <td>577</td>\n",
       "    </tr>\n",
       "  </tbody>\n",
       "</table>\n",
       "</div>"
      ],
      "text/plain": [
       "          temperatura  data_coleta\n",
       "sensacao                          \n",
       "Frio              566          566\n",
       "Normal           2010         2010\n",
       "Quente            577          577"
      ]
     },
     "execution_count": 290,
     "metadata": {},
     "output_type": "execute_result"
    }
   ],
   "source": [
    "df.groupby(['sensacao']).count()"
   ]
  },
  {
   "cell_type": "code",
   "execution_count": 291,
   "metadata": {},
   "outputs": [
    {
     "data": {
      "text/plain": [
       "sensacao\n",
       "Frio      19.098414\n",
       "Normal    23.835397\n",
       "Quente    27.944209\n",
       "Name: temperatura, dtype: float64"
      ]
     },
     "execution_count": 291,
     "metadata": {},
     "output_type": "execute_result"
    }
   ],
   "source": [
    "df.groupby(['sensacao'])['temperatura'].mean()"
   ]
  },
  {
   "cell_type": "code",
   "execution_count": 292,
   "metadata": {},
   "outputs": [],
   "source": [
    "media_min = df.set_index('data_coleta').resample('min')['temperatura'].mean()"
   ]
  },
  {
   "cell_type": "code",
   "execution_count": 293,
   "metadata": {},
   "outputs": [
    {
     "data": {
      "text/plain": [
       "data_coleta\n",
       "2019-10-05 11:25:00    24.077262\n",
       "2019-10-05 11:26:00    23.724837\n",
       "2019-10-05 11:27:00    24.063469\n",
       "2019-10-05 11:28:00    24.150694\n",
       "2019-10-05 11:29:00    23.697774\n",
       "Freq: T, Name: temperatura, dtype: float64"
      ]
     },
     "execution_count": 293,
     "metadata": {},
     "output_type": "execute_result"
    }
   ],
   "source": [
    "media_min.head()"
   ]
  },
  {
   "cell_type": "code",
   "execution_count": 294,
   "metadata": {},
   "outputs": [
    {
     "data": {
      "text/plain": [
       "[18.007307187848305, 29.466628513521407]"
      ]
     },
     "execution_count": 294,
     "metadata": {},
     "output_type": "execute_result"
    }
   ],
   "source": [
    "[df['temperatura'].mean() - 2*df['temperatura'].std() ,df['temperatura'].mean() + 2*df['temperatura'].std() ]"
   ]
  },
  {
   "cell_type": "code",
   "execution_count": 303,
   "metadata": {},
   "outputs": [],
   "source": [
    "df.set_index('data_coleta', inplace=True)"
   ]
  },
  {
   "cell_type": "code",
   "execution_count": 307,
   "metadata": {},
   "outputs": [
    {
     "data": {
      "text/html": [
       "<div>\n",
       "<style scoped>\n",
       "    .dataframe tbody tr th:only-of-type {\n",
       "        vertical-align: middle;\n",
       "    }\n",
       "\n",
       "    .dataframe tbody tr th {\n",
       "        vertical-align: top;\n",
       "    }\n",
       "\n",
       "    .dataframe thead th {\n",
       "        text-align: right;\n",
       "    }\n",
       "</style>\n",
       "<table border=\"1\" class=\"dataframe\">\n",
       "  <thead>\n",
       "    <tr style=\"text-align: right;\">\n",
       "      <th></th>\n",
       "      <th>temperatura</th>\n",
       "    </tr>\n",
       "    <tr>\n",
       "      <th>data_coleta</th>\n",
       "      <th></th>\n",
       "    </tr>\n",
       "  </thead>\n",
       "  <tbody>\n",
       "    <tr>\n",
       "      <td>2019-10-05 11:25:47.754</td>\n",
       "      <td>23.267567</td>\n",
       "    </tr>\n",
       "    <tr>\n",
       "      <td>2019-10-05 11:25:52.764</td>\n",
       "      <td>24.573758</td>\n",
       "    </tr>\n",
       "    <tr>\n",
       "      <td>2019-10-05 11:25:57.767</td>\n",
       "      <td>24.390460</td>\n",
       "    </tr>\n",
       "    <tr>\n",
       "      <td>2019-10-05 11:26:02.776</td>\n",
       "      <td>23.379668</td>\n",
       "    </tr>\n",
       "    <tr>\n",
       "      <td>2019-10-05 11:26:07.799</td>\n",
       "      <td>24.666627</td>\n",
       "    </tr>\n",
       "  </tbody>\n",
       "</table>\n",
       "</div>"
      ],
      "text/plain": [
       "                         temperatura\n",
       "data_coleta                         \n",
       "2019-10-05 11:25:47.754    23.267567\n",
       "2019-10-05 11:25:52.764    24.573758\n",
       "2019-10-05 11:25:57.767    24.390460\n",
       "2019-10-05 11:26:02.776    23.379668\n",
       "2019-10-05 11:26:07.799    24.666627"
      ]
     },
     "execution_count": 307,
     "metadata": {},
     "output_type": "execute_result"
    }
   ],
   "source": [
    "df.head()"
   ]
  },
  {
   "cell_type": "code",
   "execution_count": 308,
   "metadata": {},
   "outputs": [],
   "source": [
    "df.reset_index(inplace=True)"
   ]
  },
  {
   "cell_type": "code",
   "execution_count": 309,
   "metadata": {
    "scrolled": true
   },
   "outputs": [
    {
     "data": {
      "text/html": [
       "<div>\n",
       "<style scoped>\n",
       "    .dataframe tbody tr th:only-of-type {\n",
       "        vertical-align: middle;\n",
       "    }\n",
       "\n",
       "    .dataframe tbody tr th {\n",
       "        vertical-align: top;\n",
       "    }\n",
       "\n",
       "    .dataframe thead th {\n",
       "        text-align: right;\n",
       "    }\n",
       "</style>\n",
       "<table border=\"1\" class=\"dataframe\">\n",
       "  <thead>\n",
       "    <tr style=\"text-align: right;\">\n",
       "      <th></th>\n",
       "      <th>data_coleta</th>\n",
       "      <th>temperatura</th>\n",
       "    </tr>\n",
       "  </thead>\n",
       "  <tbody>\n",
       "    <tr>\n",
       "      <td>3183</td>\n",
       "      <td>2019-10-05 15:51:20.122</td>\n",
       "      <td>23.522107</td>\n",
       "    </tr>\n",
       "    <tr>\n",
       "      <td>3184</td>\n",
       "      <td>2019-10-05 15:51:25.128</td>\n",
       "      <td>22.391761</td>\n",
       "    </tr>\n",
       "    <tr>\n",
       "      <td>3185</td>\n",
       "      <td>2019-10-05 15:51:30.134</td>\n",
       "      <td>22.742294</td>\n",
       "    </tr>\n",
       "    <tr>\n",
       "      <td>3186</td>\n",
       "      <td>2019-10-05 15:51:35.140</td>\n",
       "      <td>24.365541</td>\n",
       "    </tr>\n",
       "    <tr>\n",
       "      <td>3187</td>\n",
       "      <td>2019-10-05 15:51:40.155</td>\n",
       "      <td>20.233425</td>\n",
       "    </tr>\n",
       "  </tbody>\n",
       "</table>\n",
       "</div>"
      ],
      "text/plain": [
       "                 data_coleta  temperatura\n",
       "3183 2019-10-05 15:51:20.122    23.522107\n",
       "3184 2019-10-05 15:51:25.128    22.391761\n",
       "3185 2019-10-05 15:51:30.134    22.742294\n",
       "3186 2019-10-05 15:51:35.140    24.365541\n",
       "3187 2019-10-05 15:51:40.155    20.233425"
      ]
     },
     "execution_count": 309,
     "metadata": {},
     "output_type": "execute_result"
    }
   ],
   "source": [
    "df.tail()"
   ]
  },
  {
   "cell_type": "code",
   "execution_count": 310,
   "metadata": {
    "scrolled": true
   },
   "outputs": [],
   "source": [
    "# Qual o minuto que tem a media de temperatura mais alta?\n",
    "q1 = df.set_index('data_coleta').resample('min').mean()"
   ]
  },
  {
   "cell_type": "code",
   "execution_count": 311,
   "metadata": {},
   "outputs": [
    {
     "data": {
      "text/plain": [
       "temperatura    26.082001\n",
       "Name: 2019-10-05 14:32:00, dtype: float64"
      ]
     },
     "execution_count": 311,
     "metadata": {},
     "output_type": "execute_result"
    }
   ],
   "source": [
    "q1.loc[q1.idxmax()['temperatura']]"
   ]
  },
  {
   "cell_type": "code",
   "execution_count": 313,
   "metadata": {},
   "outputs": [],
   "source": [
    "# Sinalize todas a medicoes que ultrapassam 28 com alerta true. \n",
    "\n",
    "#def ver_alerta(temp):\n",
    "#     if temp >= 28:\n",
    "#         return True\n",
    "#     return False\n",
    "# df['Alerta'] = df['temperatura'].apply(ver_alerta)\n",
    "\n",
    "df['Alerta'] = df['temperatura'].apply(lambda x: True if x >= 28 else False )"
   ]
  },
  {
   "cell_type": "code",
   "execution_count": 314,
   "metadata": {},
   "outputs": [
    {
     "data": {
      "text/html": [
       "<div>\n",
       "<style scoped>\n",
       "    .dataframe tbody tr th:only-of-type {\n",
       "        vertical-align: middle;\n",
       "    }\n",
       "\n",
       "    .dataframe tbody tr th {\n",
       "        vertical-align: top;\n",
       "    }\n",
       "\n",
       "    .dataframe thead th {\n",
       "        text-align: right;\n",
       "    }\n",
       "</style>\n",
       "<table border=\"1\" class=\"dataframe\">\n",
       "  <thead>\n",
       "    <tr style=\"text-align: right;\">\n",
       "      <th></th>\n",
       "      <th>data_coleta</th>\n",
       "      <th>temperatura</th>\n",
       "      <th>Alerta</th>\n",
       "    </tr>\n",
       "  </thead>\n",
       "  <tbody>\n",
       "    <tr>\n",
       "      <td>0</td>\n",
       "      <td>2019-10-05 11:25:47.754</td>\n",
       "      <td>23.267567</td>\n",
       "      <td>False</td>\n",
       "    </tr>\n",
       "    <tr>\n",
       "      <td>1</td>\n",
       "      <td>2019-10-05 11:25:52.764</td>\n",
       "      <td>24.573758</td>\n",
       "      <td>False</td>\n",
       "    </tr>\n",
       "    <tr>\n",
       "      <td>2</td>\n",
       "      <td>2019-10-05 11:25:57.767</td>\n",
       "      <td>24.390460</td>\n",
       "      <td>False</td>\n",
       "    </tr>\n",
       "    <tr>\n",
       "      <td>3</td>\n",
       "      <td>2019-10-05 11:26:02.776</td>\n",
       "      <td>23.379668</td>\n",
       "      <td>False</td>\n",
       "    </tr>\n",
       "    <tr>\n",
       "      <td>4</td>\n",
       "      <td>2019-10-05 11:26:07.799</td>\n",
       "      <td>24.666627</td>\n",
       "      <td>False</td>\n",
       "    </tr>\n",
       "    <tr>\n",
       "      <td>...</td>\n",
       "      <td>...</td>\n",
       "      <td>...</td>\n",
       "      <td>...</td>\n",
       "    </tr>\n",
       "    <tr>\n",
       "      <td>3183</td>\n",
       "      <td>2019-10-05 15:51:20.122</td>\n",
       "      <td>23.522107</td>\n",
       "      <td>False</td>\n",
       "    </tr>\n",
       "    <tr>\n",
       "      <td>3184</td>\n",
       "      <td>2019-10-05 15:51:25.128</td>\n",
       "      <td>22.391761</td>\n",
       "      <td>False</td>\n",
       "    </tr>\n",
       "    <tr>\n",
       "      <td>3185</td>\n",
       "      <td>2019-10-05 15:51:30.134</td>\n",
       "      <td>22.742294</td>\n",
       "      <td>False</td>\n",
       "    </tr>\n",
       "    <tr>\n",
       "      <td>3186</td>\n",
       "      <td>2019-10-05 15:51:35.140</td>\n",
       "      <td>24.365541</td>\n",
       "      <td>False</td>\n",
       "    </tr>\n",
       "    <tr>\n",
       "      <td>3187</td>\n",
       "      <td>2019-10-05 15:51:40.155</td>\n",
       "      <td>20.233425</td>\n",
       "      <td>False</td>\n",
       "    </tr>\n",
       "  </tbody>\n",
       "</table>\n",
       "<p>3188 rows × 3 columns</p>\n",
       "</div>"
      ],
      "text/plain": [
       "                 data_coleta  temperatura  Alerta\n",
       "0    2019-10-05 11:25:47.754    23.267567   False\n",
       "1    2019-10-05 11:25:52.764    24.573758   False\n",
       "2    2019-10-05 11:25:57.767    24.390460   False\n",
       "3    2019-10-05 11:26:02.776    23.379668   False\n",
       "4    2019-10-05 11:26:07.799    24.666627   False\n",
       "...                      ...          ...     ...\n",
       "3183 2019-10-05 15:51:20.122    23.522107   False\n",
       "3184 2019-10-05 15:51:25.128    22.391761   False\n",
       "3185 2019-10-05 15:51:30.134    22.742294   False\n",
       "3186 2019-10-05 15:51:35.140    24.365541   False\n",
       "3187 2019-10-05 15:51:40.155    20.233425   False\n",
       "\n",
       "[3188 rows x 3 columns]"
      ]
     },
     "execution_count": 314,
     "metadata": {},
     "output_type": "execute_result"
    }
   ],
   "source": [
    "df"
   ]
  },
  {
   "cell_type": "code",
   "execution_count": 315,
   "metadata": {
    "scrolled": true
   },
   "outputs": [
    {
     "data": {
      "text/html": [
       "<div>\n",
       "<style scoped>\n",
       "    .dataframe tbody tr th:only-of-type {\n",
       "        vertical-align: middle;\n",
       "    }\n",
       "\n",
       "    .dataframe tbody tr th {\n",
       "        vertical-align: top;\n",
       "    }\n",
       "\n",
       "    .dataframe thead th {\n",
       "        text-align: right;\n",
       "    }\n",
       "</style>\n",
       "<table border=\"1\" class=\"dataframe\">\n",
       "  <thead>\n",
       "    <tr style=\"text-align: right;\">\n",
       "      <th></th>\n",
       "      <th>data_coleta</th>\n",
       "      <th>temperatura</th>\n",
       "      <th>Alerta</th>\n",
       "    </tr>\n",
       "  </thead>\n",
       "  <tbody>\n",
       "    <tr>\n",
       "      <td>1288</td>\n",
       "      <td>2019-10-05 13:13:12.987</td>\n",
       "      <td>29.214825</td>\n",
       "      <td>True</td>\n",
       "    </tr>\n",
       "    <tr>\n",
       "      <td>1295</td>\n",
       "      <td>2019-10-05 13:13:48.029</td>\n",
       "      <td>28.707304</td>\n",
       "      <td>True</td>\n",
       "    </tr>\n",
       "    <tr>\n",
       "      <td>1298</td>\n",
       "      <td>2019-10-05 13:14:03.047</td>\n",
       "      <td>29.037690</td>\n",
       "      <td>True</td>\n",
       "    </tr>\n",
       "    <tr>\n",
       "      <td>1307</td>\n",
       "      <td>2019-10-05 13:14:48.121</td>\n",
       "      <td>28.522929</td>\n",
       "      <td>True</td>\n",
       "    </tr>\n",
       "    <tr>\n",
       "      <td>1308</td>\n",
       "      <td>2019-10-05 13:14:53.127</td>\n",
       "      <td>29.199075</td>\n",
       "      <td>True</td>\n",
       "    </tr>\n",
       "    <tr>\n",
       "      <td>...</td>\n",
       "      <td>...</td>\n",
       "      <td>...</td>\n",
       "      <td>...</td>\n",
       "    </tr>\n",
       "    <tr>\n",
       "      <td>3156</td>\n",
       "      <td>2019-10-05 15:49:04.927</td>\n",
       "      <td>28.394121</td>\n",
       "      <td>True</td>\n",
       "    </tr>\n",
       "    <tr>\n",
       "      <td>3162</td>\n",
       "      <td>2019-10-05 15:49:34.962</td>\n",
       "      <td>29.945071</td>\n",
       "      <td>True</td>\n",
       "    </tr>\n",
       "    <tr>\n",
       "      <td>3167</td>\n",
       "      <td>2019-10-05 15:50:00.005</td>\n",
       "      <td>28.270503</td>\n",
       "      <td>True</td>\n",
       "    </tr>\n",
       "    <tr>\n",
       "      <td>3168</td>\n",
       "      <td>2019-10-05 15:50:05.011</td>\n",
       "      <td>29.813120</td>\n",
       "      <td>True</td>\n",
       "    </tr>\n",
       "    <tr>\n",
       "      <td>3177</td>\n",
       "      <td>2019-10-05 15:50:50.085</td>\n",
       "      <td>29.873473</td>\n",
       "      <td>True</td>\n",
       "    </tr>\n",
       "  </tbody>\n",
       "</table>\n",
       "<p>281 rows × 3 columns</p>\n",
       "</div>"
      ],
      "text/plain": [
       "                 data_coleta  temperatura  Alerta\n",
       "1288 2019-10-05 13:13:12.987    29.214825    True\n",
       "1295 2019-10-05 13:13:48.029    28.707304    True\n",
       "1298 2019-10-05 13:14:03.047    29.037690    True\n",
       "1307 2019-10-05 13:14:48.121    28.522929    True\n",
       "1308 2019-10-05 13:14:53.127    29.199075    True\n",
       "...                      ...          ...     ...\n",
       "3156 2019-10-05 15:49:04.927    28.394121    True\n",
       "3162 2019-10-05 15:49:34.962    29.945071    True\n",
       "3167 2019-10-05 15:50:00.005    28.270503    True\n",
       "3168 2019-10-05 15:50:05.011    29.813120    True\n",
       "3177 2019-10-05 15:50:50.085    29.873473    True\n",
       "\n",
       "[281 rows x 3 columns]"
      ]
     },
     "execution_count": 315,
     "metadata": {},
     "output_type": "execute_result"
    }
   ],
   "source": [
    "df[df['Alerta'] == True]"
   ]
  },
  {
   "cell_type": "code",
   "execution_count": 316,
   "metadata": {},
   "outputs": [],
   "source": [
    "# Gerar um DF consolidado com media, min e max e hora.\n",
    "df2 = pd.DataFrame()"
   ]
  },
  {
   "cell_type": "code",
   "execution_count": 317,
   "metadata": {},
   "outputs": [],
   "source": [
    "df2['media'] = df.set_index('data_coleta').resample('H')['temperatura'].mean()"
   ]
  },
  {
   "cell_type": "code",
   "execution_count": 318,
   "metadata": {},
   "outputs": [
    {
     "data": {
      "text/html": [
       "<div>\n",
       "<style scoped>\n",
       "    .dataframe tbody tr th:only-of-type {\n",
       "        vertical-align: middle;\n",
       "    }\n",
       "\n",
       "    .dataframe tbody tr th {\n",
       "        vertical-align: top;\n",
       "    }\n",
       "\n",
       "    .dataframe thead th {\n",
       "        text-align: right;\n",
       "    }\n",
       "</style>\n",
       "<table border=\"1\" class=\"dataframe\">\n",
       "  <thead>\n",
       "    <tr style=\"text-align: right;\">\n",
       "      <th></th>\n",
       "      <th>media</th>\n",
       "    </tr>\n",
       "    <tr>\n",
       "      <th>data_coleta</th>\n",
       "      <th></th>\n",
       "    </tr>\n",
       "  </thead>\n",
       "  <tbody>\n",
       "    <tr>\n",
       "      <td>2019-10-05 11:00:00</td>\n",
       "      <td>23.971357</td>\n",
       "    </tr>\n",
       "    <tr>\n",
       "      <td>2019-10-05 12:00:00</td>\n",
       "      <td>23.987006</td>\n",
       "    </tr>\n",
       "    <tr>\n",
       "      <td>2019-10-05 13:00:00</td>\n",
       "      <td>23.773818</td>\n",
       "    </tr>\n",
       "    <tr>\n",
       "      <td>2019-10-05 14:00:00</td>\n",
       "      <td>23.506318</td>\n",
       "    </tr>\n",
       "    <tr>\n",
       "      <td>2019-10-05 15:00:00</td>\n",
       "      <td>23.491671</td>\n",
       "    </tr>\n",
       "  </tbody>\n",
       "</table>\n",
       "</div>"
      ],
      "text/plain": [
       "                         media\n",
       "data_coleta                   \n",
       "2019-10-05 11:00:00  23.971357\n",
       "2019-10-05 12:00:00  23.987006\n",
       "2019-10-05 13:00:00  23.773818\n",
       "2019-10-05 14:00:00  23.506318\n",
       "2019-10-05 15:00:00  23.491671"
      ]
     },
     "execution_count": 318,
     "metadata": {},
     "output_type": "execute_result"
    }
   ],
   "source": [
    "df2"
   ]
  },
  {
   "cell_type": "code",
   "execution_count": 319,
   "metadata": {},
   "outputs": [],
   "source": [
    "df2['minimo'] = df.set_index('data_coleta').resample('H')['temperatura'].min()"
   ]
  },
  {
   "cell_type": "code",
   "execution_count": 320,
   "metadata": {},
   "outputs": [
    {
     "data": {
      "text/html": [
       "<div>\n",
       "<style scoped>\n",
       "    .dataframe tbody tr th:only-of-type {\n",
       "        vertical-align: middle;\n",
       "    }\n",
       "\n",
       "    .dataframe tbody tr th {\n",
       "        vertical-align: top;\n",
       "    }\n",
       "\n",
       "    .dataframe thead th {\n",
       "        text-align: right;\n",
       "    }\n",
       "</style>\n",
       "<table border=\"1\" class=\"dataframe\">\n",
       "  <thead>\n",
       "    <tr style=\"text-align: right;\">\n",
       "      <th></th>\n",
       "      <th>media</th>\n",
       "      <th>minimo</th>\n",
       "    </tr>\n",
       "    <tr>\n",
       "      <th>data_coleta</th>\n",
       "      <th></th>\n",
       "      <th></th>\n",
       "    </tr>\n",
       "  </thead>\n",
       "  <tbody>\n",
       "    <tr>\n",
       "      <td>2019-10-05 11:00:00</td>\n",
       "      <td>23.971357</td>\n",
       "      <td>23.000088</td>\n",
       "    </tr>\n",
       "    <tr>\n",
       "      <td>2019-10-05 12:00:00</td>\n",
       "      <td>23.987006</td>\n",
       "      <td>23.005302</td>\n",
       "    </tr>\n",
       "    <tr>\n",
       "      <td>2019-10-05 13:00:00</td>\n",
       "      <td>23.773818</td>\n",
       "      <td>17.005691</td>\n",
       "    </tr>\n",
       "    <tr>\n",
       "      <td>2019-10-05 14:00:00</td>\n",
       "      <td>23.506318</td>\n",
       "      <td>17.005405</td>\n",
       "    </tr>\n",
       "    <tr>\n",
       "      <td>2019-10-05 15:00:00</td>\n",
       "      <td>23.491671</td>\n",
       "      <td>17.038183</td>\n",
       "    </tr>\n",
       "  </tbody>\n",
       "</table>\n",
       "</div>"
      ],
      "text/plain": [
       "                         media     minimo\n",
       "data_coleta                              \n",
       "2019-10-05 11:00:00  23.971357  23.000088\n",
       "2019-10-05 12:00:00  23.987006  23.005302\n",
       "2019-10-05 13:00:00  23.773818  17.005691\n",
       "2019-10-05 14:00:00  23.506318  17.005405\n",
       "2019-10-05 15:00:00  23.491671  17.038183"
      ]
     },
     "execution_count": 320,
     "metadata": {},
     "output_type": "execute_result"
    }
   ],
   "source": [
    "df2"
   ]
  },
  {
   "cell_type": "code",
   "execution_count": 321,
   "metadata": {},
   "outputs": [],
   "source": [
    "df2['maximo'] = df.set_index('data_coleta').resample('H')['temperatura'].max()"
   ]
  },
  {
   "cell_type": "code",
   "execution_count": 322,
   "metadata": {},
   "outputs": [
    {
     "data": {
      "text/html": [
       "<div>\n",
       "<style scoped>\n",
       "    .dataframe tbody tr th:only-of-type {\n",
       "        vertical-align: middle;\n",
       "    }\n",
       "\n",
       "    .dataframe tbody tr th {\n",
       "        vertical-align: top;\n",
       "    }\n",
       "\n",
       "    .dataframe thead th {\n",
       "        text-align: right;\n",
       "    }\n",
       "</style>\n",
       "<table border=\"1\" class=\"dataframe\">\n",
       "  <thead>\n",
       "    <tr style=\"text-align: right;\">\n",
       "      <th></th>\n",
       "      <th>media</th>\n",
       "      <th>minimo</th>\n",
       "      <th>maximo</th>\n",
       "    </tr>\n",
       "    <tr>\n",
       "      <th>data_coleta</th>\n",
       "      <th></th>\n",
       "      <th></th>\n",
       "      <th></th>\n",
       "    </tr>\n",
       "  </thead>\n",
       "  <tbody>\n",
       "    <tr>\n",
       "      <td>2019-10-05 11:00:00</td>\n",
       "      <td>23.971357</td>\n",
       "      <td>23.000088</td>\n",
       "      <td>24.999006</td>\n",
       "    </tr>\n",
       "    <tr>\n",
       "      <td>2019-10-05 12:00:00</td>\n",
       "      <td>23.987006</td>\n",
       "      <td>23.005302</td>\n",
       "      <td>24.998962</td>\n",
       "    </tr>\n",
       "    <tr>\n",
       "      <td>2019-10-05 13:00:00</td>\n",
       "      <td>23.773818</td>\n",
       "      <td>17.005691</td>\n",
       "      <td>29.997508</td>\n",
       "    </tr>\n",
       "    <tr>\n",
       "      <td>2019-10-05 14:00:00</td>\n",
       "      <td>23.506318</td>\n",
       "      <td>17.005405</td>\n",
       "      <td>29.997778</td>\n",
       "    </tr>\n",
       "    <tr>\n",
       "      <td>2019-10-05 15:00:00</td>\n",
       "      <td>23.491671</td>\n",
       "      <td>17.038183</td>\n",
       "      <td>29.978851</td>\n",
       "    </tr>\n",
       "  </tbody>\n",
       "</table>\n",
       "</div>"
      ],
      "text/plain": [
       "                         media     minimo     maximo\n",
       "data_coleta                                         \n",
       "2019-10-05 11:00:00  23.971357  23.000088  24.999006\n",
       "2019-10-05 12:00:00  23.987006  23.005302  24.998962\n",
       "2019-10-05 13:00:00  23.773818  17.005691  29.997508\n",
       "2019-10-05 14:00:00  23.506318  17.005405  29.997778\n",
       "2019-10-05 15:00:00  23.491671  17.038183  29.978851"
      ]
     },
     "execution_count": 322,
     "metadata": {},
     "output_type": "execute_result"
    }
   ],
   "source": [
    "df2"
   ]
  },
  {
   "cell_type": "code",
   "execution_count": 323,
   "metadata": {},
   "outputs": [],
   "source": [
    "# outra possibilidade de resolucao\n",
    "df2 = df.set_index('data_coleta').resample('H')['temperatura'].agg(['mean','min','max'])"
   ]
  },
  {
   "cell_type": "code",
   "execution_count": 324,
   "metadata": {},
   "outputs": [
    {
     "data": {
      "text/html": [
       "<div>\n",
       "<style scoped>\n",
       "    .dataframe tbody tr th:only-of-type {\n",
       "        vertical-align: middle;\n",
       "    }\n",
       "\n",
       "    .dataframe tbody tr th {\n",
       "        vertical-align: top;\n",
       "    }\n",
       "\n",
       "    .dataframe thead th {\n",
       "        text-align: right;\n",
       "    }\n",
       "</style>\n",
       "<table border=\"1\" class=\"dataframe\">\n",
       "  <thead>\n",
       "    <tr style=\"text-align: right;\">\n",
       "      <th></th>\n",
       "      <th>mean</th>\n",
       "      <th>min</th>\n",
       "      <th>max</th>\n",
       "    </tr>\n",
       "    <tr>\n",
       "      <th>data_coleta</th>\n",
       "      <th></th>\n",
       "      <th></th>\n",
       "      <th></th>\n",
       "    </tr>\n",
       "  </thead>\n",
       "  <tbody>\n",
       "    <tr>\n",
       "      <td>2019-10-05 11:00:00</td>\n",
       "      <td>23.971357</td>\n",
       "      <td>23.000088</td>\n",
       "      <td>24.999006</td>\n",
       "    </tr>\n",
       "    <tr>\n",
       "      <td>2019-10-05 12:00:00</td>\n",
       "      <td>23.987006</td>\n",
       "      <td>23.005302</td>\n",
       "      <td>24.998962</td>\n",
       "    </tr>\n",
       "    <tr>\n",
       "      <td>2019-10-05 13:00:00</td>\n",
       "      <td>23.773818</td>\n",
       "      <td>17.005691</td>\n",
       "      <td>29.997508</td>\n",
       "    </tr>\n",
       "    <tr>\n",
       "      <td>2019-10-05 14:00:00</td>\n",
       "      <td>23.506318</td>\n",
       "      <td>17.005405</td>\n",
       "      <td>29.997778</td>\n",
       "    </tr>\n",
       "    <tr>\n",
       "      <td>2019-10-05 15:00:00</td>\n",
       "      <td>23.491671</td>\n",
       "      <td>17.038183</td>\n",
       "      <td>29.978851</td>\n",
       "    </tr>\n",
       "  </tbody>\n",
       "</table>\n",
       "</div>"
      ],
      "text/plain": [
       "                          mean        min        max\n",
       "data_coleta                                         \n",
       "2019-10-05 11:00:00  23.971357  23.000088  24.999006\n",
       "2019-10-05 12:00:00  23.987006  23.005302  24.998962\n",
       "2019-10-05 13:00:00  23.773818  17.005691  29.997508\n",
       "2019-10-05 14:00:00  23.506318  17.005405  29.997778\n",
       "2019-10-05 15:00:00  23.491671  17.038183  29.978851"
      ]
     },
     "execution_count": 324,
     "metadata": {},
     "output_type": "execute_result"
    }
   ],
   "source": [
    "df2"
   ]
  },
  {
   "cell_type": "code",
   "execution_count": 238,
   "metadata": {},
   "outputs": [],
   "source": [
    "# atribuir um valor NaN (Not a Number) em uma coluna\n",
    "# df2['soma'] = pd.np.nan"
   ]
  },
  {
   "cell_type": "code",
   "execution_count": 325,
   "metadata": {},
   "outputs": [],
   "source": [
    "# reordenar\n",
    "df2 = df2[['max','min','mean']]"
   ]
  },
  {
   "cell_type": "code",
   "execution_count": 326,
   "metadata": {},
   "outputs": [
    {
     "data": {
      "text/html": [
       "<div>\n",
       "<style scoped>\n",
       "    .dataframe tbody tr th:only-of-type {\n",
       "        vertical-align: middle;\n",
       "    }\n",
       "\n",
       "    .dataframe tbody tr th {\n",
       "        vertical-align: top;\n",
       "    }\n",
       "\n",
       "    .dataframe thead th {\n",
       "        text-align: right;\n",
       "    }\n",
       "</style>\n",
       "<table border=\"1\" class=\"dataframe\">\n",
       "  <thead>\n",
       "    <tr style=\"text-align: right;\">\n",
       "      <th></th>\n",
       "      <th>max</th>\n",
       "      <th>min</th>\n",
       "      <th>mean</th>\n",
       "    </tr>\n",
       "    <tr>\n",
       "      <th>data_coleta</th>\n",
       "      <th></th>\n",
       "      <th></th>\n",
       "      <th></th>\n",
       "    </tr>\n",
       "  </thead>\n",
       "  <tbody>\n",
       "    <tr>\n",
       "      <td>2019-10-05 11:00:00</td>\n",
       "      <td>24.999006</td>\n",
       "      <td>23.000088</td>\n",
       "      <td>23.971357</td>\n",
       "    </tr>\n",
       "    <tr>\n",
       "      <td>2019-10-05 12:00:00</td>\n",
       "      <td>24.998962</td>\n",
       "      <td>23.005302</td>\n",
       "      <td>23.987006</td>\n",
       "    </tr>\n",
       "    <tr>\n",
       "      <td>2019-10-05 13:00:00</td>\n",
       "      <td>29.997508</td>\n",
       "      <td>17.005691</td>\n",
       "      <td>23.773818</td>\n",
       "    </tr>\n",
       "    <tr>\n",
       "      <td>2019-10-05 14:00:00</td>\n",
       "      <td>29.997778</td>\n",
       "      <td>17.005405</td>\n",
       "      <td>23.506318</td>\n",
       "    </tr>\n",
       "    <tr>\n",
       "      <td>2019-10-05 15:00:00</td>\n",
       "      <td>29.978851</td>\n",
       "      <td>17.038183</td>\n",
       "      <td>23.491671</td>\n",
       "    </tr>\n",
       "  </tbody>\n",
       "</table>\n",
       "</div>"
      ],
      "text/plain": [
       "                           max        min       mean\n",
       "data_coleta                                         \n",
       "2019-10-05 11:00:00  24.999006  23.000088  23.971357\n",
       "2019-10-05 12:00:00  24.998962  23.005302  23.987006\n",
       "2019-10-05 13:00:00  29.997508  17.005691  23.773818\n",
       "2019-10-05 14:00:00  29.997778  17.005405  23.506318\n",
       "2019-10-05 15:00:00  29.978851  17.038183  23.491671"
      ]
     },
     "execution_count": 326,
     "metadata": {},
     "output_type": "execute_result"
    }
   ],
   "source": [
    "df2"
   ]
  },
  {
   "cell_type": "code",
   "execution_count": 254,
   "metadata": {},
   "outputs": [],
   "source": [
    "df2.to_excel('consolidado.xls')"
   ]
  }
 ],
 "metadata": {
  "kernelspec": {
   "display_name": "Python 3",
   "language": "python",
   "name": "python3"
  },
  "language_info": {
   "codemirror_mode": {
    "name": "ipython",
    "version": 3
   },
   "file_extension": ".py",
   "mimetype": "text/x-python",
   "name": "python",
   "nbconvert_exporter": "python",
   "pygments_lexer": "ipython3",
   "version": "3.7.4"
  }
 },
 "nbformat": 4,
 "nbformat_minor": 2
}
