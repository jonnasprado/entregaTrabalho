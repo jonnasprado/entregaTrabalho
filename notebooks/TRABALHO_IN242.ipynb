{
 "cells": [
  {
   "cell_type": "code",
   "execution_count": null,
   "metadata": {},
   "outputs": [],
   "source": []
  },
  {
   "cell_type": "code",
   "execution_count": 635,
   "metadata": {},
   "outputs": [],
   "source": [
    "from pymongo import MongoClient\n",
    "import pandas as pd\n",
    "import numpy as np\n",
    "import datetime\n",
    "import matplotlib.pyplot as plt"
   ]
  },
  {
   "cell_type": "code",
   "execution_count": 636,
   "metadata": {},
   "outputs": [],
   "source": [
    "mongo_client = MongoClient('18.229.146.168', 27017)\n",
    "mongo_db = mongo_client['inatel']\n",
    "mongo_collection = mongo_db['in242']"
   ]
  },
  {
   "cell_type": "code",
   "execution_count": 637,
   "metadata": {},
   "outputs": [],
   "source": [
    "#df = pd.read_csv('consolidado.csv')\n",
    "dados = list(mongo_collection.find())\n",
    "df = pd.DataFrame(dados)"
   ]
  },
  {
   "cell_type": "code",
   "execution_count": 638,
   "metadata": {},
   "outputs": [
    {
     "data": {
      "text/html": [
       "<div>\n",
       "<style scoped>\n",
       "    .dataframe tbody tr th:only-of-type {\n",
       "        vertical-align: middle;\n",
       "    }\n",
       "\n",
       "    .dataframe tbody tr th {\n",
       "        vertical-align: top;\n",
       "    }\n",
       "\n",
       "    .dataframe thead th {\n",
       "        text-align: right;\n",
       "    }\n",
       "</style>\n",
       "<table border=\"1\" class=\"dataframe\">\n",
       "  <thead>\n",
       "    <tr style=\"text-align: right;\">\n",
       "      <th></th>\n",
       "      <th>_id</th>\n",
       "      <th>temperatura</th>\n",
       "      <th>data_coleta</th>\n",
       "    </tr>\n",
       "  </thead>\n",
       "  <tbody>\n",
       "    <tr>\n",
       "      <th>10303</th>\n",
       "      <td>5dc0d559a86ebf088b5804df</td>\n",
       "      <td>25.520909</td>\n",
       "      <td>2019-11-04 22:50:17.480</td>\n",
       "    </tr>\n",
       "    <tr>\n",
       "      <th>10304</th>\n",
       "      <td>5dc0d55aa86ebf088b5804e0</td>\n",
       "      <td>28.633912</td>\n",
       "      <td>2019-11-04 22:50:18.481</td>\n",
       "    </tr>\n",
       "    <tr>\n",
       "      <th>10305</th>\n",
       "      <td>5dc0d55ba86ebf088b5804e1</td>\n",
       "      <td>18.665830</td>\n",
       "      <td>2019-11-04 22:50:19.483</td>\n",
       "    </tr>\n",
       "    <tr>\n",
       "      <th>10306</th>\n",
       "      <td>5dc0d55ca86ebf088b5804e2</td>\n",
       "      <td>20.045578</td>\n",
       "      <td>2019-11-04 22:50:20.484</td>\n",
       "    </tr>\n",
       "    <tr>\n",
       "      <th>10307</th>\n",
       "      <td>5dc0d55da86ebf088b5804e3</td>\n",
       "      <td>18.610155</td>\n",
       "      <td>2019-11-04 22:50:21.485</td>\n",
       "    </tr>\n",
       "  </tbody>\n",
       "</table>\n",
       "</div>"
      ],
      "text/plain": [
       "                            _id  temperatura             data_coleta\n",
       "10303  5dc0d559a86ebf088b5804df    25.520909 2019-11-04 22:50:17.480\n",
       "10304  5dc0d55aa86ebf088b5804e0    28.633912 2019-11-04 22:50:18.481\n",
       "10305  5dc0d55ba86ebf088b5804e1    18.665830 2019-11-04 22:50:19.483\n",
       "10306  5dc0d55ca86ebf088b5804e2    20.045578 2019-11-04 22:50:20.484\n",
       "10307  5dc0d55da86ebf088b5804e3    18.610155 2019-11-04 22:50:21.485"
      ]
     },
     "execution_count": 638,
     "metadata": {},
     "output_type": "execute_result"
    }
   ],
   "source": [
    "df.tail()"
   ]
  },
  {
   "cell_type": "code",
   "execution_count": 639,
   "metadata": {},
   "outputs": [
    {
     "data": {
      "text/plain": [
       "10308"
      ]
     },
     "execution_count": 639,
     "metadata": {},
     "output_type": "execute_result"
    }
   ],
   "source": [
    "df.temperatura.count()"
   ]
  },
  {
   "cell_type": "code",
   "execution_count": 640,
   "metadata": {},
   "outputs": [],
   "source": [
    "df.to_csv('TrabalhoIN242.csv')"
   ]
  },
  {
   "cell_type": "code",
   "execution_count": 641,
   "metadata": {},
   "outputs": [],
   "source": [
    "#df = pd.read_csv('TrabalhoIN242.csv')"
   ]
  },
  {
   "cell_type": "code",
   "execution_count": 642,
   "metadata": {},
   "outputs": [],
   "source": [
    "#df = df.drop(columns=['_id'])"
   ]
  },
  {
   "cell_type": "code",
   "execution_count": 643,
   "metadata": {},
   "outputs": [],
   "source": [
    "#df = df.rename(columns={'Unnamed: 0': 'Index'})"
   ]
  },
  {
   "cell_type": "code",
   "execution_count": 644,
   "metadata": {},
   "outputs": [],
   "source": [
    "df = df[['data_coleta','temperatura']]"
   ]
  },
  {
   "cell_type": "code",
   "execution_count": 645,
   "metadata": {},
   "outputs": [
    {
     "data": {
      "text/html": [
       "<div>\n",
       "<style scoped>\n",
       "    .dataframe tbody tr th:only-of-type {\n",
       "        vertical-align: middle;\n",
       "    }\n",
       "\n",
       "    .dataframe tbody tr th {\n",
       "        vertical-align: top;\n",
       "    }\n",
       "\n",
       "    .dataframe thead th {\n",
       "        text-align: right;\n",
       "    }\n",
       "</style>\n",
       "<table border=\"1\" class=\"dataframe\">\n",
       "  <thead>\n",
       "    <tr style=\"text-align: right;\">\n",
       "      <th></th>\n",
       "      <th>data_coleta</th>\n",
       "      <th>temperatura</th>\n",
       "    </tr>\n",
       "  </thead>\n",
       "  <tbody>\n",
       "    <tr>\n",
       "      <th>0</th>\n",
       "      <td>2019-11-04 19:58:21.697</td>\n",
       "      <td>23.009051</td>\n",
       "    </tr>\n",
       "    <tr>\n",
       "      <th>1</th>\n",
       "      <td>2019-11-04 19:58:22.698</td>\n",
       "      <td>22.904100</td>\n",
       "    </tr>\n",
       "    <tr>\n",
       "      <th>2</th>\n",
       "      <td>2019-11-04 19:58:23.700</td>\n",
       "      <td>18.171301</td>\n",
       "    </tr>\n",
       "    <tr>\n",
       "      <th>3</th>\n",
       "      <td>2019-11-04 19:58:24.701</td>\n",
       "      <td>26.593286</td>\n",
       "    </tr>\n",
       "    <tr>\n",
       "      <th>4</th>\n",
       "      <td>2019-11-04 19:58:25.703</td>\n",
       "      <td>15.355377</td>\n",
       "    </tr>\n",
       "  </tbody>\n",
       "</table>\n",
       "</div>"
      ],
      "text/plain": [
       "              data_coleta  temperatura\n",
       "0 2019-11-04 19:58:21.697    23.009051\n",
       "1 2019-11-04 19:58:22.698    22.904100\n",
       "2 2019-11-04 19:58:23.700    18.171301\n",
       "3 2019-11-04 19:58:24.701    26.593286\n",
       "4 2019-11-04 19:58:25.703    15.355377"
      ]
     },
     "execution_count": 645,
     "metadata": {},
     "output_type": "execute_result"
    }
   ],
   "source": [
    "df.head()"
   ]
  },
  {
   "cell_type": "code",
   "execution_count": 646,
   "metadata": {},
   "outputs": [],
   "source": [
    "def join_date(row):\n",
    "    date = row['data_coleta'].split('.')[0]\n",
    "    #hour = f\" {row['Hour']}:00\"\n",
    "    return datetime.datetime.strptime(date, '%m/%d/%Y %H:%M:%s')"
   ]
  },
  {
   "cell_type": "code",
   "execution_count": 647,
   "metadata": {},
   "outputs": [],
   "source": [
    "#df['data_coleta'] = df.apply(join_date, axis=1)"
   ]
  },
  {
   "cell_type": "code",
   "execution_count": 648,
   "metadata": {},
   "outputs": [
    {
     "data": {
      "text/html": [
       "<div>\n",
       "<style scoped>\n",
       "    .dataframe tbody tr th:only-of-type {\n",
       "        vertical-align: middle;\n",
       "    }\n",
       "\n",
       "    .dataframe tbody tr th {\n",
       "        vertical-align: top;\n",
       "    }\n",
       "\n",
       "    .dataframe thead th {\n",
       "        text-align: right;\n",
       "    }\n",
       "</style>\n",
       "<table border=\"1\" class=\"dataframe\">\n",
       "  <thead>\n",
       "    <tr style=\"text-align: right;\">\n",
       "      <th></th>\n",
       "      <th>data_coleta</th>\n",
       "      <th>temperatura</th>\n",
       "    </tr>\n",
       "  </thead>\n",
       "  <tbody>\n",
       "    <tr>\n",
       "      <th>0</th>\n",
       "      <td>2019-11-04 19:58:21.697</td>\n",
       "      <td>23.009051</td>\n",
       "    </tr>\n",
       "    <tr>\n",
       "      <th>1</th>\n",
       "      <td>2019-11-04 19:58:22.698</td>\n",
       "      <td>22.904100</td>\n",
       "    </tr>\n",
       "    <tr>\n",
       "      <th>2</th>\n",
       "      <td>2019-11-04 19:58:23.700</td>\n",
       "      <td>18.171301</td>\n",
       "    </tr>\n",
       "    <tr>\n",
       "      <th>3</th>\n",
       "      <td>2019-11-04 19:58:24.701</td>\n",
       "      <td>26.593286</td>\n",
       "    </tr>\n",
       "    <tr>\n",
       "      <th>4</th>\n",
       "      <td>2019-11-04 19:58:25.703</td>\n",
       "      <td>15.355377</td>\n",
       "    </tr>\n",
       "    <tr>\n",
       "      <th>...</th>\n",
       "      <td>...</td>\n",
       "      <td>...</td>\n",
       "    </tr>\n",
       "    <tr>\n",
       "      <th>10303</th>\n",
       "      <td>2019-11-04 22:50:17.480</td>\n",
       "      <td>25.520909</td>\n",
       "    </tr>\n",
       "    <tr>\n",
       "      <th>10304</th>\n",
       "      <td>2019-11-04 22:50:18.481</td>\n",
       "      <td>28.633912</td>\n",
       "    </tr>\n",
       "    <tr>\n",
       "      <th>10305</th>\n",
       "      <td>2019-11-04 22:50:19.483</td>\n",
       "      <td>18.665830</td>\n",
       "    </tr>\n",
       "    <tr>\n",
       "      <th>10306</th>\n",
       "      <td>2019-11-04 22:50:20.484</td>\n",
       "      <td>20.045578</td>\n",
       "    </tr>\n",
       "    <tr>\n",
       "      <th>10307</th>\n",
       "      <td>2019-11-04 22:50:21.485</td>\n",
       "      <td>18.610155</td>\n",
       "    </tr>\n",
       "  </tbody>\n",
       "</table>\n",
       "<p>10308 rows × 2 columns</p>\n",
       "</div>"
      ],
      "text/plain": [
       "                  data_coleta  temperatura\n",
       "0     2019-11-04 19:58:21.697    23.009051\n",
       "1     2019-11-04 19:58:22.698    22.904100\n",
       "2     2019-11-04 19:58:23.700    18.171301\n",
       "3     2019-11-04 19:58:24.701    26.593286\n",
       "4     2019-11-04 19:58:25.703    15.355377\n",
       "...                       ...          ...\n",
       "10303 2019-11-04 22:50:17.480    25.520909\n",
       "10304 2019-11-04 22:50:18.481    28.633912\n",
       "10305 2019-11-04 22:50:19.483    18.665830\n",
       "10306 2019-11-04 22:50:20.484    20.045578\n",
       "10307 2019-11-04 22:50:21.485    18.610155\n",
       "\n",
       "[10308 rows x 2 columns]"
      ]
     },
     "execution_count": 648,
     "metadata": {},
     "output_type": "execute_result"
    }
   ],
   "source": [
    "df"
   ]
  },
  {
   "cell_type": "code",
   "execution_count": 649,
   "metadata": {},
   "outputs": [],
   "source": [
    "def check_temperatura(temperatura):\n",
    "    if temperatura < 21:\n",
    "        return 'Frio'\n",
    "    if temperatura < 26:\n",
    "        return 'Normal'\n",
    "    return 'Quente'"
   ]
  },
  {
   "cell_type": "code",
   "execution_count": 650,
   "metadata": {},
   "outputs": [],
   "source": [
    "df['sensacao'] = df['temperatura'].apply(check_temperatura)"
   ]
  },
  {
   "cell_type": "code",
   "execution_count": 651,
   "metadata": {},
   "outputs": [],
   "source": [
    "df_perc = (df.groupby(['sensacao']).count()/df.temperatura.count())*100"
   ]
  },
  {
   "cell_type": "code",
   "execution_count": null,
   "metadata": {},
   "outputs": [],
   "source": []
  },
  {
   "cell_type": "code",
   "execution_count": 652,
   "metadata": {},
   "outputs": [],
   "source": [
    "df_perc.drop(['data_coleta'], axis=1, inplace=True)"
   ]
  },
  {
   "cell_type": "code",
   "execution_count": 653,
   "metadata": {
    "scrolled": true
   },
   "outputs": [
    {
     "data": {
      "text/plain": [
       "40.52192471866511"
      ]
     },
     "execution_count": 653,
     "metadata": {},
     "output_type": "execute_result"
    }
   ],
   "source": [
    "df_perc['temperatura'].Frio"
   ]
  },
  {
   "cell_type": "code",
   "execution_count": 654,
   "metadata": {},
   "outputs": [
    {
     "data": {
      "text/html": [
       "<div>\n",
       "<style scoped>\n",
       "    .dataframe tbody tr th:only-of-type {\n",
       "        vertical-align: middle;\n",
       "    }\n",
       "\n",
       "    .dataframe tbody tr th {\n",
       "        vertical-align: top;\n",
       "    }\n",
       "\n",
       "    .dataframe thead th {\n",
       "        text-align: right;\n",
       "    }\n",
       "</style>\n",
       "<table border=\"1\" class=\"dataframe\">\n",
       "  <thead>\n",
       "    <tr style=\"text-align: right;\">\n",
       "      <th></th>\n",
       "      <th>temperatura</th>\n",
       "    </tr>\n",
       "    <tr>\n",
       "      <th>sensacao</th>\n",
       "      <th></th>\n",
       "    </tr>\n",
       "  </thead>\n",
       "  <tbody>\n",
       "    <tr>\n",
       "      <th>Frio</th>\n",
       "      <td>40.521925</td>\n",
       "    </tr>\n",
       "    <tr>\n",
       "      <th>Normal</th>\n",
       "      <td>32.819170</td>\n",
       "    </tr>\n",
       "    <tr>\n",
       "      <th>Quente</th>\n",
       "      <td>26.658906</td>\n",
       "    </tr>\n",
       "  </tbody>\n",
       "</table>\n",
       "</div>"
      ],
      "text/plain": [
       "          temperatura\n",
       "sensacao             \n",
       "Frio        40.521925\n",
       "Normal      32.819170\n",
       "Quente      26.658906"
      ]
     },
     "execution_count": 654,
     "metadata": {},
     "output_type": "execute_result"
    }
   ],
   "source": [
    "df_perc"
   ]
  },
  {
   "cell_type": "code",
   "execution_count": 655,
   "metadata": {},
   "outputs": [
    {
     "data": {
      "image/png": "[encoded data removed]",
      "text/plain": [
       "<Figure size 432x288 with 1 Axes>"
      ]
     },
     "metadata": {
      "needs_background": "light"
     },
     "output_type": "display_data"
    }
   ],
   "source": [
    "df_perc.plot.bar()\n",
    "labels = ['Porcentagem']\n",
    "plt.legend(labels)\n",
    "plt.show()\n",
    "#xlabel('Sensação')                           # and here ?\n",
    "#ylabel('%')                                  # and here ?\n",
    "#title('Porcentagem de dados por sensação')   # and here ?\n"
   ]
  },
  {
   "cell_type": "code",
   "execution_count": 656,
   "metadata": {},
   "outputs": [],
   "source": [
    "# Em 28% do tempo a temperatura esteve fria"
   ]
  },
  {
   "cell_type": "code",
   "execution_count": 657,
   "metadata": {},
   "outputs": [
    {
     "data": {
      "image/png": "[encoded data removed]",
      "text/plain": [
       "<Figure size 432x288 with 1 Axes>"
      ]
     },
     "metadata": {},
     "output_type": "display_data"
    }
   ],
   "source": [
    "# Data to plot\n",
    "labels = 'Frio', 'Normal', 'Quente'\n",
    "sizes = [df_perc['temperatura'].Frio, df_perc['temperatura'].Normal, df_perc['temperatura'].Quente]\n",
    "colors = ['gold', 'yellowgreen', 'lightskyblue']\n",
    "explode = (0.1, 0, 0)  # explode 1st slice\n",
    "\n",
    "# Plot\n",
    "plt.pie(sizes, explode=explode, labels=labels, colors=colors,\n",
    "autopct='%1.1f%%', shadow=True, startangle=0)\n",
    "\n",
    "plt.axis('equal')\n",
    "plt.show()"
   ]
  },
  {
   "cell_type": "code",
   "execution_count": 658,
   "metadata": {},
   "outputs": [
    {
     "data": {
      "text/plain": [
       "sensacao\n",
       "Frio      18.024205\n",
       "Normal    23.465664\n",
       "Quente    28.011842\n",
       "Name: temperatura, dtype: float64"
      ]
     },
     "execution_count": 658,
     "metadata": {},
     "output_type": "execute_result"
    }
   ],
   "source": [
    "df.groupby(['sensacao'])['temperatura'].mean()"
   ]
  },
  {
   "cell_type": "code",
   "execution_count": 659,
   "metadata": {},
   "outputs": [
    {
     "data": {
      "text/html": [
       "<div>\n",
       "<style scoped>\n",
       "    .dataframe tbody tr th:only-of-type {\n",
       "        vertical-align: middle;\n",
       "    }\n",
       "\n",
       "    .dataframe tbody tr th {\n",
       "        vertical-align: top;\n",
       "    }\n",
       "\n",
       "    .dataframe thead th {\n",
       "        text-align: right;\n",
       "    }\n",
       "</style>\n",
       "<table border=\"1\" class=\"dataframe\">\n",
       "  <thead>\n",
       "    <tr style=\"text-align: right;\">\n",
       "      <th></th>\n",
       "      <th>temperatura</th>\n",
       "    </tr>\n",
       "  </thead>\n",
       "  <tbody>\n",
       "    <tr>\n",
       "      <th>count</th>\n",
       "      <td>10308.000000</td>\n",
       "    </tr>\n",
       "    <tr>\n",
       "      <th>mean</th>\n",
       "      <td>22.472641</td>\n",
       "    </tr>\n",
       "    <tr>\n",
       "      <th>std</th>\n",
       "      <td>4.328590</td>\n",
       "    </tr>\n",
       "    <tr>\n",
       "      <th>min</th>\n",
       "      <td>15.001051</td>\n",
       "    </tr>\n",
       "    <tr>\n",
       "      <th>25%</th>\n",
       "      <td>18.698534</td>\n",
       "    </tr>\n",
       "    <tr>\n",
       "      <th>50%</th>\n",
       "      <td>22.423629</td>\n",
       "    </tr>\n",
       "    <tr>\n",
       "      <th>75%</th>\n",
       "      <td>26.241760</td>\n",
       "    </tr>\n",
       "    <tr>\n",
       "      <th>max</th>\n",
       "      <td>29.999873</td>\n",
       "    </tr>\n",
       "  </tbody>\n",
       "</table>\n",
       "</div>"
      ],
      "text/plain": [
       "        temperatura\n",
       "count  10308.000000\n",
       "mean      22.472641\n",
       "std        4.328590\n",
       "min       15.001051\n",
       "25%       18.698534\n",
       "50%       22.423629\n",
       "75%       26.241760\n",
       "max       29.999873"
      ]
     },
     "execution_count": 659,
     "metadata": {},
     "output_type": "execute_result"
    }
   ],
   "source": [
    "df.describe()"
   ]
  },
  {
   "cell_type": "code",
   "execution_count": 660,
   "metadata": {},
   "outputs": [
    {
     "data": {
      "text/plain": [
       "[13.815461434446751, 31.129821494080623]"
      ]
     },
     "execution_count": 660,
     "metadata": {},
     "output_type": "execute_result"
    }
   ],
   "source": [
    "[df['temperatura'].mean() - 2*df['temperatura'].std() ,df['temperatura'].mean() + 2*df['temperatura'].std() ]"
   ]
  },
  {
   "cell_type": "code",
   "execution_count": 661,
   "metadata": {},
   "outputs": [],
   "source": [
    "df_min = df.set_index('data_coleta').resample('min').mean().sort_values(by='temperatura', ascending=False)"
   ]
  },
  {
   "cell_type": "code",
   "execution_count": 662,
   "metadata": {},
   "outputs": [
    {
     "data": {
      "text/html": [
       "<div>\n",
       "<style scoped>\n",
       "    .dataframe tbody tr th:only-of-type {\n",
       "        vertical-align: middle;\n",
       "    }\n",
       "\n",
       "    .dataframe tbody tr th {\n",
       "        vertical-align: top;\n",
       "    }\n",
       "\n",
       "    .dataframe thead th {\n",
       "        text-align: right;\n",
       "    }\n",
       "</style>\n",
       "<table border=\"1\" class=\"dataframe\">\n",
       "  <thead>\n",
       "    <tr style=\"text-align: right;\">\n",
       "      <th></th>\n",
       "      <th>temperatura</th>\n",
       "    </tr>\n",
       "    <tr>\n",
       "      <th>data_coleta</th>\n",
       "      <th></th>\n",
       "    </tr>\n",
       "  </thead>\n",
       "  <tbody>\n",
       "    <tr>\n",
       "      <th>2019-11-04 21:27:00</th>\n",
       "      <td>23.639879</td>\n",
       "    </tr>\n",
       "    <tr>\n",
       "      <th>2019-11-04 21:26:00</th>\n",
       "      <td>23.621921</td>\n",
       "    </tr>\n",
       "    <tr>\n",
       "      <th>2019-11-04 21:41:00</th>\n",
       "      <td>23.447117</td>\n",
       "    </tr>\n",
       "    <tr>\n",
       "      <th>2019-11-04 22:17:00</th>\n",
       "      <td>23.425014</td>\n",
       "    </tr>\n",
       "    <tr>\n",
       "      <th>2019-11-04 22:47:00</th>\n",
       "      <td>23.393774</td>\n",
       "    </tr>\n",
       "    <tr>\n",
       "      <th>...</th>\n",
       "      <td>...</td>\n",
       "    </tr>\n",
       "    <tr>\n",
       "      <th>2019-11-04 20:42:00</th>\n",
       "      <td>21.354190</td>\n",
       "    </tr>\n",
       "    <tr>\n",
       "      <th>2019-11-04 20:44:00</th>\n",
       "      <td>21.335547</td>\n",
       "    </tr>\n",
       "    <tr>\n",
       "      <th>2019-11-04 22:02:00</th>\n",
       "      <td>21.322856</td>\n",
       "    </tr>\n",
       "    <tr>\n",
       "      <th>2019-11-04 21:43:00</th>\n",
       "      <td>21.315903</td>\n",
       "    </tr>\n",
       "    <tr>\n",
       "      <th>2019-11-04 21:28:00</th>\n",
       "      <td>21.256228</td>\n",
       "    </tr>\n",
       "  </tbody>\n",
       "</table>\n",
       "<p>173 rows × 1 columns</p>\n",
       "</div>"
      ],
      "text/plain": [
       "                     temperatura\n",
       "data_coleta                     \n",
       "2019-11-04 21:27:00    23.639879\n",
       "2019-11-04 21:26:00    23.621921\n",
       "2019-11-04 21:41:00    23.447117\n",
       "2019-11-04 22:17:00    23.425014\n",
       "2019-11-04 22:47:00    23.393774\n",
       "...                          ...\n",
       "2019-11-04 20:42:00    21.354190\n",
       "2019-11-04 20:44:00    21.335547\n",
       "2019-11-04 22:02:00    21.322856\n",
       "2019-11-04 21:43:00    21.315903\n",
       "2019-11-04 21:28:00    21.256228\n",
       "\n",
       "[173 rows x 1 columns]"
      ]
     },
     "execution_count": 662,
     "metadata": {},
     "output_type": "execute_result"
    }
   ],
   "source": [
    "df_min"
   ]
  },
  {
   "cell_type": "code",
   "execution_count": 663,
   "metadata": {},
   "outputs": [],
   "source": [
    "df2 = df.set_index('data_coleta').resample('min')['temperatura'].agg(['mean','min','max'])"
   ]
  },
  {
   "cell_type": "code",
   "execution_count": 664,
   "metadata": {},
   "outputs": [
    {
     "data": {
      "text/html": [
       "<div>\n",
       "<style scoped>\n",
       "    .dataframe tbody tr th:only-of-type {\n",
       "        vertical-align: middle;\n",
       "    }\n",
       "\n",
       "    .dataframe tbody tr th {\n",
       "        vertical-align: top;\n",
       "    }\n",
       "\n",
       "    .dataframe thead th {\n",
       "        text-align: right;\n",
       "    }\n",
       "</style>\n",
       "<table border=\"1\" class=\"dataframe\">\n",
       "  <thead>\n",
       "    <tr style=\"text-align: right;\">\n",
       "      <th></th>\n",
       "      <th>mean</th>\n",
       "      <th>min</th>\n",
       "      <th>max</th>\n",
       "    </tr>\n",
       "    <tr>\n",
       "      <th>data_coleta</th>\n",
       "      <th></th>\n",
       "      <th></th>\n",
       "      <th></th>\n",
       "    </tr>\n",
       "  </thead>\n",
       "  <tbody>\n",
       "    <tr>\n",
       "      <th>2019-11-04 19:58:00</th>\n",
       "      <td>22.897934</td>\n",
       "      <td>15.355377</td>\n",
       "      <td>29.968843</td>\n",
       "    </tr>\n",
       "    <tr>\n",
       "      <th>2019-11-04 19:59:00</th>\n",
       "      <td>22.121107</td>\n",
       "      <td>15.017337</td>\n",
       "      <td>29.810911</td>\n",
       "    </tr>\n",
       "    <tr>\n",
       "      <th>2019-11-04 20:00:00</th>\n",
       "      <td>22.306281</td>\n",
       "      <td>15.109962</td>\n",
       "      <td>29.805571</td>\n",
       "    </tr>\n",
       "    <tr>\n",
       "      <th>2019-11-04 20:01:00</th>\n",
       "      <td>22.014110</td>\n",
       "      <td>15.349671</td>\n",
       "      <td>29.840425</td>\n",
       "    </tr>\n",
       "    <tr>\n",
       "      <th>2019-11-04 20:02:00</th>\n",
       "      <td>22.519053</td>\n",
       "      <td>15.231687</td>\n",
       "      <td>29.800211</td>\n",
       "    </tr>\n",
       "    <tr>\n",
       "      <th>...</th>\n",
       "      <td>...</td>\n",
       "      <td>...</td>\n",
       "      <td>...</td>\n",
       "    </tr>\n",
       "    <tr>\n",
       "      <th>2019-11-04 22:46:00</th>\n",
       "      <td>22.020090</td>\n",
       "      <td>15.146335</td>\n",
       "      <td>29.849028</td>\n",
       "    </tr>\n",
       "    <tr>\n",
       "      <th>2019-11-04 22:47:00</th>\n",
       "      <td>23.393774</td>\n",
       "      <td>15.079458</td>\n",
       "      <td>29.982754</td>\n",
       "    </tr>\n",
       "    <tr>\n",
       "      <th>2019-11-04 22:48:00</th>\n",
       "      <td>22.828557</td>\n",
       "      <td>15.132001</td>\n",
       "      <td>29.891427</td>\n",
       "    </tr>\n",
       "    <tr>\n",
       "      <th>2019-11-04 22:49:00</th>\n",
       "      <td>22.625914</td>\n",
       "      <td>15.295985</td>\n",
       "      <td>29.789572</td>\n",
       "    </tr>\n",
       "    <tr>\n",
       "      <th>2019-11-04 22:50:00</th>\n",
       "      <td>21.944579</td>\n",
       "      <td>15.313589</td>\n",
       "      <td>29.292883</td>\n",
       "    </tr>\n",
       "  </tbody>\n",
       "</table>\n",
       "<p>173 rows × 3 columns</p>\n",
       "</div>"
      ],
      "text/plain": [
       "                          mean        min        max\n",
       "data_coleta                                         \n",
       "2019-11-04 19:58:00  22.897934  15.355377  29.968843\n",
       "2019-11-04 19:59:00  22.121107  15.017337  29.810911\n",
       "2019-11-04 20:00:00  22.306281  15.109962  29.805571\n",
       "2019-11-04 20:01:00  22.014110  15.349671  29.840425\n",
       "2019-11-04 20:02:00  22.519053  15.231687  29.800211\n",
       "...                        ...        ...        ...\n",
       "2019-11-04 22:46:00  22.020090  15.146335  29.849028\n",
       "2019-11-04 22:47:00  23.393774  15.079458  29.982754\n",
       "2019-11-04 22:48:00  22.828557  15.132001  29.891427\n",
       "2019-11-04 22:49:00  22.625914  15.295985  29.789572\n",
       "2019-11-04 22:50:00  21.944579  15.313589  29.292883\n",
       "\n",
       "[173 rows x 3 columns]"
      ]
     },
     "execution_count": 664,
     "metadata": {},
     "output_type": "execute_result"
    }
   ],
   "source": [
    "df2"
   ]
  },
  {
   "cell_type": "code",
   "execution_count": 665,
   "metadata": {},
   "outputs": [
    {
     "data": {
      "text/plain": [
       "<matplotlib.axes._subplots.AxesSubplot at 0x7f28d4dfb2b0>"
      ]
     },
     "execution_count": 665,
     "metadata": {},
     "output_type": "execute_result"
    },
    {
     "data": {
      "image/png": "[encoded data removed]",
      "text/plain": [
       "<Figure size 432x288 with 1 Axes>"
      ]
     },
     "metadata": {
      "needs_background": "light"
     },
     "output_type": "display_data"
    }
   ],
   "source": [
    "df2.plot()"
   ]
  },
  {
   "cell_type": "code",
   "execution_count": null,
   "metadata": {},
   "outputs": [],
   "source": []
  }
 ],
 "metadata": {
  "kernelspec": {
   "display_name": "Python 3",
   "language": "python",
   "name": "python3"
  },
  "language_info": {
   "codemirror_mode": {
    "name": "ipython",
    "version": 3
   },
   "file_extension": ".py",
   "mimetype": "text/x-python",
   "name": "python",
   "nbconvert_exporter": "python",
   "pygments_lexer": "ipython3",
   "version": "3.6.8"
  }
 },
 "nbformat": 4,
 "nbformat_minor": 2
}
