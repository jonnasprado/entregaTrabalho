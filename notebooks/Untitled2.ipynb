{
 "cells": [
  {
   "cell_type": "code",
   "execution_count": 20,
   "metadata": {},
   "outputs": [],
   "source": [
    "a = 1\n",
    "b = 2.5\n",
    "c = \"Inatel\"\n",
    "d = True\n",
    "e = False\n",
    "g = [1,2,3,4]\n",
    "h = [\"a\", \"b\", \"c\", \"d\"]\n",
    "i = ['A', 2]\n",
    "j = {'cor': 'azul', 'tamanho': 30}\n",
    "k = ('Item 1', 'Item 2')\n",
    "l = [{'nome': \"João\", 'idade': 23}, {'nome': \"Maria\", 'idade': 22}]"
   ]
  },
  {
   "cell_type": "code",
   "execution_count": 21,
   "metadata": {},
   "outputs": [
    {
     "name": "stdout",
     "output_type": "stream",
     "text": [
      "1\n",
      "Seu nome: Inatel\n"
     ]
    }
   ],
   "source": [
    "print(a)\n",
    "print(\"Seu nome: \" + c)"
   ]
  },
  {
   "cell_type": "code",
   "execution_count": 23,
   "metadata": {},
   "outputs": [
    {
     "name": "stdout",
     "output_type": "stream",
     "text": [
      "A variavel x e maior que 8\n"
     ]
    }
   ],
   "source": [
    "x = 18\n",
    "if (x>8):\n",
    "    print(\"A variavel x é maior que 8\")"
   ]
  },
  {
   "cell_type": "code",
   "execution_count": 24,
   "metadata": {},
   "outputs": [
    {
     "name": "stdout",
     "output_type": "stream",
     "text": [
      "Maria\n",
      "Carlos\n",
      "João\n"
     ]
    }
   ],
   "source": [
    "nomes = ['Maria', 'Carlos', 'João']\n",
    "for x in nomes:\n",
    "    print(x)"
   ]
  },
  {
   "cell_type": "code",
   "execution_count": 26,
   "metadata": {},
   "outputs": [
    {
     "data": {
      "text/plain": [
       "5"
      ]
     },
     "execution_count": 26,
     "metadata": {},
     "output_type": "execute_result"
    }
   ],
   "source": [
    "def soma(a,b):\n",
    "    return a+b\n",
    "\n",
    "soma (2,3)"
   ]
  },
  {
   "cell_type": "code",
   "execution_count": 28,
   "metadata": {},
   "outputs": [],
   "source": [
    "import pandas as pd"
   ]
  },
  {
   "cell_type": "code",
   "execution_count": 33,
   "metadata": {},
   "outputs": [
    {
     "data": {
      "text/html": [
       "<div>\n",
       "<style scoped>\n",
       "    .dataframe tbody tr th:only-of-type {\n",
       "        vertical-align: middle;\n",
       "    }\n",
       "\n",
       "    .dataframe tbody tr th {\n",
       "        vertical-align: top;\n",
       "    }\n",
       "\n",
       "    .dataframe thead th {\n",
       "        text-align: right;\n",
       "    }\n",
       "</style>\n",
       "<table border=\"1\" class=\"dataframe\">\n",
       "  <thead>\n",
       "    <tr style=\"text-align: right;\">\n",
       "      <th></th>\n",
       "      <th>0</th>\n",
       "      <th>1</th>\n",
       "      <th>2</th>\n",
       "      <th>3</th>\n",
       "    </tr>\n",
       "  </thead>\n",
       "  <tbody>\n",
       "    <tr>\n",
       "      <td>0</td>\n",
       "      <td>1</td>\n",
       "      <td>2</td>\n",
       "      <td>3</td>\n",
       "      <td>4</td>\n",
       "    </tr>\n",
       "    <tr>\n",
       "      <td>1</td>\n",
       "      <td>4</td>\n",
       "      <td>5</td>\n",
       "      <td>6</td>\n",
       "      <td>7</td>\n",
       "    </tr>\n",
       "  </tbody>\n",
       "</table>\n",
       "</div>"
      ],
      "text/plain": [
       "   0  1  2  3\n",
       "0  1  2  3  4\n",
       "1  4  5  6  7"
      ]
     },
     "execution_count": 33,
     "metadata": {},
     "output_type": "execute_result"
    }
   ],
   "source": [
    "pd.DataFrame([[1,2,3,4],[4,5,6,7]])"
   ]
  },
  {
   "cell_type": "code",
   "execution_count": 36,
   "metadata": {},
   "outputs": [],
   "source": [
    "pessoas = pd.DataFrame([{'nome': \"João\", 'idade': 23}, {'nome': \"Maria\", 'idade': 22}, {'nome': \"Carlos\", 'idade': 58}, {'nome': \"Pedro\", 'idade': 12}])"
   ]
  },
  {
   "cell_type": "code",
   "execution_count": 37,
   "metadata": {},
   "outputs": [
    {
     "data": {
      "text/plain": [
       "0    23\n",
       "1    22\n",
       "2    58\n",
       "3    12\n",
       "Name: idade, dtype: int64"
      ]
     },
     "execution_count": 37,
     "metadata": {},
     "output_type": "execute_result"
    }
   ],
   "source": [
    "pessoas['idade']"
   ]
  },
  {
   "cell_type": "code",
   "execution_count": 39,
   "metadata": {},
   "outputs": [
    {
     "data": {
      "text/plain": [
       "28.75"
      ]
     },
     "execution_count": 39,
     "metadata": {},
     "output_type": "execute_result"
    }
   ],
   "source": [
    "pessoas['idade'].mean()"
   ]
  },
  {
   "cell_type": "code",
   "execution_count": 41,
   "metadata": {},
   "outputs": [],
   "source": [
    "pessoas['maior'] = pessoas['idade'].apply(lambda x: True if x >= 18 else False)"
   ]
  },
  {
   "cell_type": "code",
   "execution_count": 42,
   "metadata": {},
   "outputs": [
    {
     "data": {
      "text/html": [
       "<div>\n",
       "<style scoped>\n",
       "    .dataframe tbody tr th:only-of-type {\n",
       "        vertical-align: middle;\n",
       "    }\n",
       "\n",
       "    .dataframe tbody tr th {\n",
       "        vertical-align: top;\n",
       "    }\n",
       "\n",
       "    .dataframe thead th {\n",
       "        text-align: right;\n",
       "    }\n",
       "</style>\n",
       "<table border=\"1\" class=\"dataframe\">\n",
       "  <thead>\n",
       "    <tr style=\"text-align: right;\">\n",
       "      <th></th>\n",
       "      <th>nome</th>\n",
       "      <th>idade</th>\n",
       "      <th>maior</th>\n",
       "    </tr>\n",
       "  </thead>\n",
       "  <tbody>\n",
       "    <tr>\n",
       "      <td>0</td>\n",
       "      <td>João</td>\n",
       "      <td>23</td>\n",
       "      <td>True</td>\n",
       "    </tr>\n",
       "    <tr>\n",
       "      <td>1</td>\n",
       "      <td>Maria</td>\n",
       "      <td>22</td>\n",
       "      <td>True</td>\n",
       "    </tr>\n",
       "    <tr>\n",
       "      <td>2</td>\n",
       "      <td>Carlos</td>\n",
       "      <td>58</td>\n",
       "      <td>True</td>\n",
       "    </tr>\n",
       "    <tr>\n",
       "      <td>3</td>\n",
       "      <td>Pedro</td>\n",
       "      <td>12</td>\n",
       "      <td>False</td>\n",
       "    </tr>\n",
       "  </tbody>\n",
       "</table>\n",
       "</div>"
      ],
      "text/plain": [
       "     nome  idade  maior\n",
       "0    João     23   True\n",
       "1   Maria     22   True\n",
       "2  Carlos     58   True\n",
       "3   Pedro     12  False"
      ]
     },
     "execution_count": 42,
     "metadata": {},
     "output_type": "execute_result"
    }
   ],
   "source": [
    "pessoas"
   ]
  },
  {
   "cell_type": "code",
   "execution_count": 43,
   "metadata": {},
   "outputs": [],
   "source": [
    "import pandas as pd\n",
    "import numpy as np\n",
    "import datetime"
   ]
  },
  {
   "cell_type": "code",
   "execution_count": 48,
   "metadata": {},
   "outputs": [],
   "source": [
    "df = pd.read_csv('4G_traffic.csv')"
   ]
  },
  {
   "cell_type": "code",
   "execution_count": 49,
   "metadata": {},
   "outputs": [
    {
     "data": {
      "text/plain": [
       "(497544, 4)"
      ]
     },
     "execution_count": 49,
     "metadata": {},
     "output_type": "execute_result"
    }
   ],
   "source": [
    "df.shape"
   ]
  },
  {
   "cell_type": "code",
   "execution_count": 50,
   "metadata": {},
   "outputs": [
    {
     "data": {
      "text/html": [
       "<div>\n",
       "<style scoped>\n",
       "    .dataframe tbody tr th:only-of-type {\n",
       "        vertical-align: middle;\n",
       "    }\n",
       "\n",
       "    .dataframe tbody tr th {\n",
       "        vertical-align: top;\n",
       "    }\n",
       "\n",
       "    .dataframe thead th {\n",
       "        text-align: right;\n",
       "    }\n",
       "</style>\n",
       "<table border=\"1\" class=\"dataframe\">\n",
       "  <thead>\n",
       "    <tr style=\"text-align: right;\">\n",
       "      <th></th>\n",
       "      <th>Hour</th>\n",
       "      <th>Traffic</th>\n",
       "    </tr>\n",
       "  </thead>\n",
       "  <tbody>\n",
       "    <tr>\n",
       "      <td>count</td>\n",
       "      <td>497544.000000</td>\n",
       "      <td>497544.000000</td>\n",
       "    </tr>\n",
       "    <tr>\n",
       "      <td>mean</td>\n",
       "      <td>11.496155</td>\n",
       "      <td>526.451673</td>\n",
       "    </tr>\n",
       "    <tr>\n",
       "      <td>std</td>\n",
       "      <td>6.911230</td>\n",
       "      <td>667.747113</td>\n",
       "    </tr>\n",
       "    <tr>\n",
       "      <td>min</td>\n",
       "      <td>0.000000</td>\n",
       "      <td>0.000000</td>\n",
       "    </tr>\n",
       "    <tr>\n",
       "      <td>25%</td>\n",
       "      <td>6.000000</td>\n",
       "      <td>73.683195</td>\n",
       "    </tr>\n",
       "    <tr>\n",
       "      <td>50%</td>\n",
       "      <td>11.000000</td>\n",
       "      <td>285.938680</td>\n",
       "    </tr>\n",
       "    <tr>\n",
       "      <td>75%</td>\n",
       "      <td>17.000000</td>\n",
       "      <td>725.174088</td>\n",
       "    </tr>\n",
       "    <tr>\n",
       "      <td>max</td>\n",
       "      <td>23.000000</td>\n",
       "      <td>10282.963340</td>\n",
       "    </tr>\n",
       "  </tbody>\n",
       "</table>\n",
       "</div>"
      ],
      "text/plain": [
       "                Hour        Traffic\n",
       "count  497544.000000  497544.000000\n",
       "mean       11.496155     526.451673\n",
       "std         6.911230     667.747113\n",
       "min         0.000000       0.000000\n",
       "25%         6.000000      73.683195\n",
       "50%        11.000000     285.938680\n",
       "75%        17.000000     725.174088\n",
       "max        23.000000   10282.963340"
      ]
     },
     "execution_count": 50,
     "metadata": {},
     "output_type": "execute_result"
    }
   ],
   "source": [
    "df.describe()"
   ]
  },
  {
   "cell_type": "code",
   "execution_count": 51,
   "metadata": {},
   "outputs": [
    {
     "data": {
      "text/html": [
       "<div>\n",
       "<style scoped>\n",
       "    .dataframe tbody tr th:only-of-type {\n",
       "        vertical-align: middle;\n",
       "    }\n",
       "\n",
       "    .dataframe tbody tr th {\n",
       "        vertical-align: top;\n",
       "    }\n",
       "\n",
       "    .dataframe thead th {\n",
       "        text-align: right;\n",
       "    }\n",
       "</style>\n",
       "<table border=\"1\" class=\"dataframe\">\n",
       "  <thead>\n",
       "    <tr style=\"text-align: right;\">\n",
       "      <th></th>\n",
       "      <th>Date</th>\n",
       "      <th>Hour</th>\n",
       "      <th>CellName</th>\n",
       "      <th>Traffic</th>\n",
       "    </tr>\n",
       "  </thead>\n",
       "  <tbody>\n",
       "    <tr>\n",
       "      <td>0</td>\n",
       "      <td>10/23/2017 0:00</td>\n",
       "      <td>7</td>\n",
       "      <td>Cell_001803</td>\n",
       "      <td>15.13867</td>\n",
       "    </tr>\n",
       "    <tr>\n",
       "      <td>1</td>\n",
       "      <td>10/23/2017 0:00</td>\n",
       "      <td>2</td>\n",
       "      <td>Cell_002303</td>\n",
       "      <td>2.05516</td>\n",
       "    </tr>\n",
       "    <tr>\n",
       "      <td>2</td>\n",
       "      <td>10/23/2017 0:00</td>\n",
       "      <td>7</td>\n",
       "      <td>Cell_004083</td>\n",
       "      <td>71.55308</td>\n",
       "    </tr>\n",
       "    <tr>\n",
       "      <td>3</td>\n",
       "      <td>10/23/2017 0:00</td>\n",
       "      <td>0</td>\n",
       "      <td>Cell_003781</td>\n",
       "      <td>557.98491</td>\n",
       "    </tr>\n",
       "    <tr>\n",
       "      <td>4</td>\n",
       "      <td>10/23/2017 0:00</td>\n",
       "      <td>3</td>\n",
       "      <td>Cell_000112</td>\n",
       "      <td>0.98166</td>\n",
       "    </tr>\n",
       "  </tbody>\n",
       "</table>\n",
       "</div>"
      ],
      "text/plain": [
       "              Date  Hour     CellName    Traffic\n",
       "0  10/23/2017 0:00     7  Cell_001803   15.13867\n",
       "1  10/23/2017 0:00     2  Cell_002303    2.05516\n",
       "2  10/23/2017 0:00     7  Cell_004083   71.55308\n",
       "3  10/23/2017 0:00     0  Cell_003781  557.98491\n",
       "4  10/23/2017 0:00     3  Cell_000112    0.98166"
      ]
     },
     "execution_count": 51,
     "metadata": {},
     "output_type": "execute_result"
    }
   ],
   "source": [
    "df.head()"
   ]
  },
  {
   "cell_type": "code",
   "execution_count": 52,
   "metadata": {},
   "outputs": [],
   "source": [
    "def join_date(row):\n",
    "    date = row['Date'].split(' ')[0]\n",
    "    hour = f\" {row['Hour']}:00\"\n",
    "    return datetime.datetime.strptime(date+hour, '%m/%d/%Y %H:%M')"
   ]
  },
  {
   "cell_type": "code",
   "execution_count": 53,
   "metadata": {},
   "outputs": [],
   "source": [
    "df['DateTime'] = df.apply(join_date, axis=1)"
   ]
  },
  {
   "cell_type": "code",
   "execution_count": 54,
   "metadata": {},
   "outputs": [
    {
     "data": {
      "text/html": [
       "<div>\n",
       "<style scoped>\n",
       "    .dataframe tbody tr th:only-of-type {\n",
       "        vertical-align: middle;\n",
       "    }\n",
       "\n",
       "    .dataframe tbody tr th {\n",
       "        vertical-align: top;\n",
       "    }\n",
       "\n",
       "    .dataframe thead th {\n",
       "        text-align: right;\n",
       "    }\n",
       "</style>\n",
       "<table border=\"1\" class=\"dataframe\">\n",
       "  <thead>\n",
       "    <tr style=\"text-align: right;\">\n",
       "      <th></th>\n",
       "      <th>Date</th>\n",
       "      <th>Hour</th>\n",
       "      <th>CellName</th>\n",
       "      <th>Traffic</th>\n",
       "      <th>DateTime</th>\n",
       "    </tr>\n",
       "  </thead>\n",
       "  <tbody>\n",
       "    <tr>\n",
       "      <td>0</td>\n",
       "      <td>10/23/2017 0:00</td>\n",
       "      <td>7</td>\n",
       "      <td>Cell_001803</td>\n",
       "      <td>15.13867</td>\n",
       "      <td>2017-10-23 07:00:00</td>\n",
       "    </tr>\n",
       "    <tr>\n",
       "      <td>1</td>\n",
       "      <td>10/23/2017 0:00</td>\n",
       "      <td>2</td>\n",
       "      <td>Cell_002303</td>\n",
       "      <td>2.05516</td>\n",
       "      <td>2017-10-23 02:00:00</td>\n",
       "    </tr>\n",
       "    <tr>\n",
       "      <td>2</td>\n",
       "      <td>10/23/2017 0:00</td>\n",
       "      <td>7</td>\n",
       "      <td>Cell_004083</td>\n",
       "      <td>71.55308</td>\n",
       "      <td>2017-10-23 07:00:00</td>\n",
       "    </tr>\n",
       "    <tr>\n",
       "      <td>3</td>\n",
       "      <td>10/23/2017 0:00</td>\n",
       "      <td>0</td>\n",
       "      <td>Cell_003781</td>\n",
       "      <td>557.98491</td>\n",
       "      <td>2017-10-23 00:00:00</td>\n",
       "    </tr>\n",
       "    <tr>\n",
       "      <td>4</td>\n",
       "      <td>10/23/2017 0:00</td>\n",
       "      <td>3</td>\n",
       "      <td>Cell_000112</td>\n",
       "      <td>0.98166</td>\n",
       "      <td>2017-10-23 03:00:00</td>\n",
       "    </tr>\n",
       "  </tbody>\n",
       "</table>\n",
       "</div>"
      ],
      "text/plain": [
       "              Date  Hour     CellName    Traffic            DateTime\n",
       "0  10/23/2017 0:00     7  Cell_001803   15.13867 2017-10-23 07:00:00\n",
       "1  10/23/2017 0:00     2  Cell_002303    2.05516 2017-10-23 02:00:00\n",
       "2  10/23/2017 0:00     7  Cell_004083   71.55308 2017-10-23 07:00:00\n",
       "3  10/23/2017 0:00     0  Cell_003781  557.98491 2017-10-23 00:00:00\n",
       "4  10/23/2017 0:00     3  Cell_000112    0.98166 2017-10-23 03:00:00"
      ]
     },
     "execution_count": 54,
     "metadata": {},
     "output_type": "execute_result"
    }
   ],
   "source": [
    "df.head()"
   ]
  },
  {
   "cell_type": "code",
   "execution_count": 55,
   "metadata": {},
   "outputs": [],
   "source": [
    "df.drop(['Date','Hour'], axis=1, inplace=True)"
   ]
  },
  {
   "cell_type": "code",
   "execution_count": 56,
   "metadata": {},
   "outputs": [
    {
     "data": {
      "text/html": [
       "<div>\n",
       "<style scoped>\n",
       "    .dataframe tbody tr th:only-of-type {\n",
       "        vertical-align: middle;\n",
       "    }\n",
       "\n",
       "    .dataframe tbody tr th {\n",
       "        vertical-align: top;\n",
       "    }\n",
       "\n",
       "    .dataframe thead th {\n",
       "        text-align: right;\n",
       "    }\n",
       "</style>\n",
       "<table border=\"1\" class=\"dataframe\">\n",
       "  <thead>\n",
       "    <tr style=\"text-align: right;\">\n",
       "      <th></th>\n",
       "      <th>CellName</th>\n",
       "      <th>Traffic</th>\n",
       "      <th>DateTime</th>\n",
       "    </tr>\n",
       "  </thead>\n",
       "  <tbody>\n",
       "    <tr>\n",
       "      <td>0</td>\n",
       "      <td>Cell_001803</td>\n",
       "      <td>15.13867</td>\n",
       "      <td>2017-10-23 07:00:00</td>\n",
       "    </tr>\n",
       "    <tr>\n",
       "      <td>1</td>\n",
       "      <td>Cell_002303</td>\n",
       "      <td>2.05516</td>\n",
       "      <td>2017-10-23 02:00:00</td>\n",
       "    </tr>\n",
       "    <tr>\n",
       "      <td>2</td>\n",
       "      <td>Cell_004083</td>\n",
       "      <td>71.55308</td>\n",
       "      <td>2017-10-23 07:00:00</td>\n",
       "    </tr>\n",
       "    <tr>\n",
       "      <td>3</td>\n",
       "      <td>Cell_003781</td>\n",
       "      <td>557.98491</td>\n",
       "      <td>2017-10-23 00:00:00</td>\n",
       "    </tr>\n",
       "    <tr>\n",
       "      <td>4</td>\n",
       "      <td>Cell_000112</td>\n",
       "      <td>0.98166</td>\n",
       "      <td>2017-10-23 03:00:00</td>\n",
       "    </tr>\n",
       "  </tbody>\n",
       "</table>\n",
       "</div>"
      ],
      "text/plain": [
       "      CellName    Traffic            DateTime\n",
       "0  Cell_001803   15.13867 2017-10-23 07:00:00\n",
       "1  Cell_002303    2.05516 2017-10-23 02:00:00\n",
       "2  Cell_004083   71.55308 2017-10-23 07:00:00\n",
       "3  Cell_003781  557.98491 2017-10-23 00:00:00\n",
       "4  Cell_000112    0.98166 2017-10-23 03:00:00"
      ]
     },
     "execution_count": 56,
     "metadata": {},
     "output_type": "execute_result"
    }
   ],
   "source": [
    "df.head()"
   ]
  },
  {
   "cell_type": "code",
   "execution_count": 57,
   "metadata": {},
   "outputs": [],
   "source": [
    "df = df[['DateTime','CellName','Traffic']]"
   ]
  },
  {
   "cell_type": "code",
   "execution_count": 58,
   "metadata": {},
   "outputs": [
    {
     "data": {
      "text/html": [
       "<div>\n",
       "<style scoped>\n",
       "    .dataframe tbody tr th:only-of-type {\n",
       "        vertical-align: middle;\n",
       "    }\n",
       "\n",
       "    .dataframe tbody tr th {\n",
       "        vertical-align: top;\n",
       "    }\n",
       "\n",
       "    .dataframe thead th {\n",
       "        text-align: right;\n",
       "    }\n",
       "</style>\n",
       "<table border=\"1\" class=\"dataframe\">\n",
       "  <thead>\n",
       "    <tr style=\"text-align: right;\">\n",
       "      <th></th>\n",
       "      <th>DateTime</th>\n",
       "      <th>CellName</th>\n",
       "      <th>Traffic</th>\n",
       "    </tr>\n",
       "  </thead>\n",
       "  <tbody>\n",
       "    <tr>\n",
       "      <td>0</td>\n",
       "      <td>2017-10-23 07:00:00</td>\n",
       "      <td>Cell_001803</td>\n",
       "      <td>15.13867</td>\n",
       "    </tr>\n",
       "    <tr>\n",
       "      <td>1</td>\n",
       "      <td>2017-10-23 02:00:00</td>\n",
       "      <td>Cell_002303</td>\n",
       "      <td>2.05516</td>\n",
       "    </tr>\n",
       "    <tr>\n",
       "      <td>2</td>\n",
       "      <td>2017-10-23 07:00:00</td>\n",
       "      <td>Cell_004083</td>\n",
       "      <td>71.55308</td>\n",
       "    </tr>\n",
       "    <tr>\n",
       "      <td>3</td>\n",
       "      <td>2017-10-23 00:00:00</td>\n",
       "      <td>Cell_003781</td>\n",
       "      <td>557.98491</td>\n",
       "    </tr>\n",
       "    <tr>\n",
       "      <td>4</td>\n",
       "      <td>2017-10-23 03:00:00</td>\n",
       "      <td>Cell_000112</td>\n",
       "      <td>0.98166</td>\n",
       "    </tr>\n",
       "  </tbody>\n",
       "</table>\n",
       "</div>"
      ],
      "text/plain": [
       "             DateTime     CellName    Traffic\n",
       "0 2017-10-23 07:00:00  Cell_001803   15.13867\n",
       "1 2017-10-23 02:00:00  Cell_002303    2.05516\n",
       "2 2017-10-23 07:00:00  Cell_004083   71.55308\n",
       "3 2017-10-23 00:00:00  Cell_003781  557.98491\n",
       "4 2017-10-23 03:00:00  Cell_000112    0.98166"
      ]
     },
     "execution_count": 58,
     "metadata": {},
     "output_type": "execute_result"
    }
   ],
   "source": [
    "df.head()"
   ]
  },
  {
   "cell_type": "code",
   "execution_count": 59,
   "metadata": {},
   "outputs": [],
   "source": [
    "df_avg = df.groupby(['CellName'])['Traffic'].mean()"
   ]
  },
  {
   "cell_type": "code",
   "execution_count": 61,
   "metadata": {},
   "outputs": [
    {
     "data": {
      "text/plain": [
       "CellName\n",
       "Cell_000111    826.539594\n",
       "Cell_000112    395.399762\n",
       "Cell_000113    502.557161\n",
       "Cell_000231    507.977037\n",
       "Cell_000232    428.892371\n",
       "Name: Traffic, dtype: float64"
      ]
     },
     "execution_count": 61,
     "metadata": {},
     "output_type": "execute_result"
    }
   ],
   "source": [
    "df_avg.head()"
   ]
  },
  {
   "cell_type": "code",
   "execution_count": 62,
   "metadata": {},
   "outputs": [],
   "source": [
    "df_avg = df_avg.reset_index().sort_values(by='Traffic', ascending=False)"
   ]
  },
  {
   "cell_type": "code",
   "execution_count": 63,
   "metadata": {},
   "outputs": [
    {
     "data": {
      "text/html": [
       "<div>\n",
       "<style scoped>\n",
       "    .dataframe tbody tr th:only-of-type {\n",
       "        vertical-align: middle;\n",
       "    }\n",
       "\n",
       "    .dataframe tbody tr th {\n",
       "        vertical-align: top;\n",
       "    }\n",
       "\n",
       "    .dataframe thead th {\n",
       "        text-align: right;\n",
       "    }\n",
       "</style>\n",
       "<table border=\"1\" class=\"dataframe\">\n",
       "  <thead>\n",
       "    <tr style=\"text-align: right;\">\n",
       "      <th></th>\n",
       "      <th>CellName</th>\n",
       "      <th>Traffic</th>\n",
       "    </tr>\n",
       "  </thead>\n",
       "  <tbody>\n",
       "    <tr>\n",
       "      <td>38</td>\n",
       "      <td>Cell_003793</td>\n",
       "      <td>1146.074445</td>\n",
       "    </tr>\n",
       "    <tr>\n",
       "      <td>47</td>\n",
       "      <td>Cell_006653</td>\n",
       "      <td>1041.518544</td>\n",
       "    </tr>\n",
       "    <tr>\n",
       "      <td>40</td>\n",
       "      <td>Cell_004072</td>\n",
       "      <td>1024.744420</td>\n",
       "    </tr>\n",
       "    <tr>\n",
       "      <td>15</td>\n",
       "      <td>Cell_001791</td>\n",
       "      <td>928.210292</td>\n",
       "    </tr>\n",
       "    <tr>\n",
       "      <td>45</td>\n",
       "      <td>Cell_006651</td>\n",
       "      <td>899.250459</td>\n",
       "    </tr>\n",
       "  </tbody>\n",
       "</table>\n",
       "</div>"
      ],
      "text/plain": [
       "       CellName      Traffic\n",
       "38  Cell_003793  1146.074445\n",
       "47  Cell_006653  1041.518544\n",
       "40  Cell_004072  1024.744420\n",
       "15  Cell_001791   928.210292\n",
       "45  Cell_006651   899.250459"
      ]
     },
     "execution_count": 63,
     "metadata": {},
     "output_type": "execute_result"
    }
   ],
   "source": [
    "df_avg.head()"
   ]
  },
  {
   "cell_type": "code",
   "execution_count": 64,
   "metadata": {},
   "outputs": [],
   "source": [
    "df_cell93 = df[df['CellName'] == 'Cell_003793']"
   ]
  },
  {
   "cell_type": "code",
   "execution_count": 65,
   "metadata": {},
   "outputs": [
    {
     "data": {
      "text/html": [
       "<div>\n",
       "<style scoped>\n",
       "    .dataframe tbody tr th:only-of-type {\n",
       "        vertical-align: middle;\n",
       "    }\n",
       "\n",
       "    .dataframe tbody tr th {\n",
       "        vertical-align: top;\n",
       "    }\n",
       "\n",
       "    .dataframe thead th {\n",
       "        text-align: right;\n",
       "    }\n",
       "</style>\n",
       "<table border=\"1\" class=\"dataframe\">\n",
       "  <thead>\n",
       "    <tr style=\"text-align: right;\">\n",
       "      <th></th>\n",
       "      <th>DateTime</th>\n",
       "      <th>CellName</th>\n",
       "      <th>Traffic</th>\n",
       "    </tr>\n",
       "  </thead>\n",
       "  <tbody>\n",
       "    <tr>\n",
       "      <td>40</td>\n",
       "      <td>2017-10-23 16:00:00</td>\n",
       "      <td>Cell_003793</td>\n",
       "      <td>220.60219</td>\n",
       "    </tr>\n",
       "    <tr>\n",
       "      <td>53</td>\n",
       "      <td>2017-10-23 18:00:00</td>\n",
       "      <td>Cell_003793</td>\n",
       "      <td>2137.26495</td>\n",
       "    </tr>\n",
       "    <tr>\n",
       "      <td>61</td>\n",
       "      <td>2017-10-23 20:00:00</td>\n",
       "      <td>Cell_003793</td>\n",
       "      <td>3573.06291</td>\n",
       "    </tr>\n",
       "    <tr>\n",
       "      <td>67</td>\n",
       "      <td>2017-10-23 22:00:00</td>\n",
       "      <td>Cell_003793</td>\n",
       "      <td>569.25024</td>\n",
       "    </tr>\n",
       "    <tr>\n",
       "      <td>77</td>\n",
       "      <td>2017-10-23 10:00:00</td>\n",
       "      <td>Cell_003793</td>\n",
       "      <td>584.61053</td>\n",
       "    </tr>\n",
       "  </tbody>\n",
       "</table>\n",
       "</div>"
      ],
      "text/plain": [
       "              DateTime     CellName     Traffic\n",
       "40 2017-10-23 16:00:00  Cell_003793   220.60219\n",
       "53 2017-10-23 18:00:00  Cell_003793  2137.26495\n",
       "61 2017-10-23 20:00:00  Cell_003793  3573.06291\n",
       "67 2017-10-23 22:00:00  Cell_003793   569.25024\n",
       "77 2017-10-23 10:00:00  Cell_003793   584.61053"
      ]
     },
     "execution_count": 65,
     "metadata": {},
     "output_type": "execute_result"
    }
   ],
   "source": [
    "df_cell93.head()"
   ]
  },
  {
   "cell_type": "code",
   "execution_count": 66,
   "metadata": {},
   "outputs": [],
   "source": [
    "df_cell93_month = df_cell93.set_index('DateTime').groupby(pd.Grouper(freq='M')).mean()"
   ]
  },
  {
   "cell_type": "code",
   "execution_count": 67,
   "metadata": {},
   "outputs": [
    {
     "data": {
      "text/html": [
       "<div>\n",
       "<style scoped>\n",
       "    .dataframe tbody tr th:only-of-type {\n",
       "        vertical-align: middle;\n",
       "    }\n",
       "\n",
       "    .dataframe tbody tr th {\n",
       "        vertical-align: top;\n",
       "    }\n",
       "\n",
       "    .dataframe thead th {\n",
       "        text-align: right;\n",
       "    }\n",
       "</style>\n",
       "<table border=\"1\" class=\"dataframe\">\n",
       "  <thead>\n",
       "    <tr style=\"text-align: right;\">\n",
       "      <th></th>\n",
       "      <th>Traffic</th>\n",
       "    </tr>\n",
       "    <tr>\n",
       "      <th>DateTime</th>\n",
       "      <th></th>\n",
       "    </tr>\n",
       "  </thead>\n",
       "  <tbody>\n",
       "    <tr>\n",
       "      <td>2017-10-31</td>\n",
       "      <td>612.843579</td>\n",
       "    </tr>\n",
       "    <tr>\n",
       "      <td>2017-11-30</td>\n",
       "      <td>652.696231</td>\n",
       "    </tr>\n",
       "    <tr>\n",
       "      <td>2017-12-31</td>\n",
       "      <td>652.073250</td>\n",
       "    </tr>\n",
       "    <tr>\n",
       "      <td>2018-01-31</td>\n",
       "      <td>727.693129</td>\n",
       "    </tr>\n",
       "    <tr>\n",
       "      <td>2018-02-28</td>\n",
       "      <td>1070.738298</td>\n",
       "    </tr>\n",
       "  </tbody>\n",
       "</table>\n",
       "</div>"
      ],
      "text/plain": [
       "                Traffic\n",
       "DateTime               \n",
       "2017-10-31   612.843579\n",
       "2017-11-30   652.696231\n",
       "2017-12-31   652.073250\n",
       "2018-01-31   727.693129\n",
       "2018-02-28  1070.738298"
      ]
     },
     "execution_count": 67,
     "metadata": {},
     "output_type": "execute_result"
    }
   ],
   "source": [
    "df_cell93_month.head()"
   ]
  },
  {
   "cell_type": "code",
   "execution_count": 69,
   "metadata": {},
   "outputs": [
    {
     "data": {
      "text/plain": [
       "<matplotlib.axes._subplots.AxesSubplot at 0x7f5d6e4618d0>"
      ]
     },
     "execution_count": 69,
     "metadata": {},
     "output_type": "execute_result"
    },
    {
     "data": {
      "image/png": "[encoded data removed]",
      "text/plain": [
       "<Figure size 432x288 with 1 Axes>"
      ]
     },
     "metadata": {
      "needs_background": "light"
     },
     "output_type": "display_data"
    }
   ],
   "source": [
    "df_cell93_month.plot.bar()"
   ]
  },
  {
   "cell_type": "code",
   "execution_count": 116,
   "metadata": {},
   "outputs": [],
   "source": [
    "df_cell93_201809 = df_cell93[(df_cell93['DateTime'] > '2018-09-01') & (df_cell93['DateTime'] <= '2018-09-30')]"
   ]
  },
  {
   "cell_type": "code",
   "execution_count": 117,
   "metadata": {},
   "outputs": [
    {
     "data": {
      "text/html": [
       "<div>\n",
       "<style scoped>\n",
       "    .dataframe tbody tr th:only-of-type {\n",
       "        vertical-align: middle;\n",
       "    }\n",
       "\n",
       "    .dataframe tbody tr th {\n",
       "        vertical-align: top;\n",
       "    }\n",
       "\n",
       "    .dataframe thead th {\n",
       "        text-align: right;\n",
       "    }\n",
       "</style>\n",
       "<table border=\"1\" class=\"dataframe\">\n",
       "  <thead>\n",
       "    <tr style=\"text-align: right;\">\n",
       "      <th></th>\n",
       "      <th>DateTime</th>\n",
       "      <th>CellName</th>\n",
       "      <th>Traffic</th>\n",
       "    </tr>\n",
       "  </thead>\n",
       "  <tbody>\n",
       "    <tr>\n",
       "      <td>426735</td>\n",
       "      <td>2018-09-01 06:00:00</td>\n",
       "      <td>Cell_003793</td>\n",
       "      <td>886.81161</td>\n",
       "    </tr>\n",
       "    <tr>\n",
       "      <td>426746</td>\n",
       "      <td>2018-09-01 04:00:00</td>\n",
       "      <td>Cell_003793</td>\n",
       "      <td>218.04911</td>\n",
       "    </tr>\n",
       "    <tr>\n",
       "      <td>426780</td>\n",
       "      <td>2018-09-01 23:00:00</td>\n",
       "      <td>Cell_003793</td>\n",
       "      <td>2524.86956</td>\n",
       "    </tr>\n",
       "    <tr>\n",
       "      <td>426854</td>\n",
       "      <td>2018-09-01 17:00:00</td>\n",
       "      <td>Cell_003793</td>\n",
       "      <td>2704.64340</td>\n",
       "    </tr>\n",
       "    <tr>\n",
       "      <td>427015</td>\n",
       "      <td>2018-09-01 14:00:00</td>\n",
       "      <td>Cell_003793</td>\n",
       "      <td>1796.25271</td>\n",
       "    </tr>\n",
       "  </tbody>\n",
       "</table>\n",
       "</div>"
      ],
      "text/plain": [
       "                  DateTime     CellName     Traffic\n",
       "426735 2018-09-01 06:00:00  Cell_003793   886.81161\n",
       "426746 2018-09-01 04:00:00  Cell_003793   218.04911\n",
       "426780 2018-09-01 23:00:00  Cell_003793  2524.86956\n",
       "426854 2018-09-01 17:00:00  Cell_003793  2704.64340\n",
       "427015 2018-09-01 14:00:00  Cell_003793  1796.25271"
      ]
     },
     "execution_count": 117,
     "metadata": {},
     "output_type": "execute_result"
    }
   ],
   "source": [
    "df_cell93_201809.head()"
   ]
  },
  {
   "cell_type": "code",
   "execution_count": 105,
   "metadata": {},
   "outputs": [
    {
     "data": {
      "text/plain": [
       "(692, 3)"
      ]
     },
     "execution_count": 105,
     "metadata": {},
     "output_type": "execute_result"
    }
   ],
   "source": [
    "df_cell93_201809.shape"
   ]
  },
  {
   "cell_type": "code",
   "execution_count": 106,
   "metadata": {},
   "outputs": [],
   "source": [
    "df_cell93_201809_day = df_cell93_201809.set_index('DateTime').groupby(pd.Grouper(freq='D')).mean()"
   ]
  },
  {
   "cell_type": "code",
   "execution_count": 107,
   "metadata": {},
   "outputs": [
    {
     "data": {
      "text/plain": [
       "<matplotlib.axes._subplots.AxesSubplot at 0x7f5d6dc2b150>"
      ]
     },
     "execution_count": 107,
     "metadata": {},
     "output_type": "execute_result"
    },
    {
     "data": {
      "image/png": "[encoded data removed]",
      "text/plain": [
       "<Figure size 432x288 with 1 Axes>"
      ]
     },
     "metadata": {
      "needs_background": "light"
     },
     "output_type": "display_data"
    }
   ],
   "source": [
    "df_cell93_201809_day.plot.bar()"
   ]
  },
  {
   "cell_type": "code",
   "execution_count": 108,
   "metadata": {},
   "outputs": [
    {
     "data": {
      "text/plain": [
       "(30, 1)"
      ]
     },
     "execution_count": 108,
     "metadata": {},
     "output_type": "execute_result"
    }
   ],
   "source": [
    "df_cell93_201809_day.shape"
   ]
  },
  {
   "cell_type": "code",
   "execution_count": 109,
   "metadata": {},
   "outputs": [],
   "source": [
    "df_cell93_201809_day = df_cell93_201809_day.sort_values(by='Traffic', ascending=False)"
   ]
  },
  {
   "cell_type": "code",
   "execution_count": 110,
   "metadata": {},
   "outputs": [
    {
     "data": {
      "text/html": [
       "<div>\n",
       "<style scoped>\n",
       "    .dataframe tbody tr th:only-of-type {\n",
       "        vertical-align: middle;\n",
       "    }\n",
       "\n",
       "    .dataframe tbody tr th {\n",
       "        vertical-align: top;\n",
       "    }\n",
       "\n",
       "    .dataframe thead th {\n",
       "        text-align: right;\n",
       "    }\n",
       "</style>\n",
       "<table border=\"1\" class=\"dataframe\">\n",
       "  <thead>\n",
       "    <tr style=\"text-align: right;\">\n",
       "      <th></th>\n",
       "      <th>Traffic</th>\n",
       "    </tr>\n",
       "    <tr>\n",
       "      <th>DateTime</th>\n",
       "      <th></th>\n",
       "    </tr>\n",
       "  </thead>\n",
       "  <tbody>\n",
       "    <tr>\n",
       "      <td>2018-09-02</td>\n",
       "      <td>2905.031414</td>\n",
       "    </tr>\n",
       "    <tr>\n",
       "      <td>2018-09-23</td>\n",
       "      <td>2796.101143</td>\n",
       "    </tr>\n",
       "    <tr>\n",
       "      <td>2018-09-03</td>\n",
       "      <td>2592.898723</td>\n",
       "    </tr>\n",
       "    <tr>\n",
       "      <td>2018-09-09</td>\n",
       "      <td>2539.180058</td>\n",
       "    </tr>\n",
       "    <tr>\n",
       "      <td>2018-09-01</td>\n",
       "      <td>2299.637862</td>\n",
       "    </tr>\n",
       "  </tbody>\n",
       "</table>\n",
       "</div>"
      ],
      "text/plain": [
       "                Traffic\n",
       "DateTime               \n",
       "2018-09-02  2905.031414\n",
       "2018-09-23  2796.101143\n",
       "2018-09-03  2592.898723\n",
       "2018-09-09  2539.180058\n",
       "2018-09-01  2299.637862"
      ]
     },
     "execution_count": 110,
     "metadata": {},
     "output_type": "execute_result"
    }
   ],
   "source": [
    "df_cell93_201809_day.head()"
   ]
  },
  {
   "cell_type": "code",
   "execution_count": 111,
   "metadata": {},
   "outputs": [],
   "source": [
    "df_cell93_20180902 = df_cell93[(df_cell93['DateTime'] >= '2018-09-02') & (df_cell93['DateTime'] < '2018-09-03')]"
   ]
  },
  {
   "cell_type": "code",
   "execution_count": 112,
   "metadata": {},
   "outputs": [
    {
     "data": {
      "text/html": [
       "<div>\n",
       "<style scoped>\n",
       "    .dataframe tbody tr th:only-of-type {\n",
       "        vertical-align: middle;\n",
       "    }\n",
       "\n",
       "    .dataframe tbody tr th {\n",
       "        vertical-align: top;\n",
       "    }\n",
       "\n",
       "    .dataframe thead th {\n",
       "        text-align: right;\n",
       "    }\n",
       "</style>\n",
       "<table border=\"1\" class=\"dataframe\">\n",
       "  <thead>\n",
       "    <tr style=\"text-align: right;\">\n",
       "      <th></th>\n",
       "      <th>DateTime</th>\n",
       "      <th>CellName</th>\n",
       "      <th>Traffic</th>\n",
       "    </tr>\n",
       "  </thead>\n",
       "  <tbody>\n",
       "    <tr>\n",
       "      <td>428137</td>\n",
       "      <td>2018-09-02 00:00:00</td>\n",
       "      <td>Cell_003793</td>\n",
       "      <td>938.24982</td>\n",
       "    </tr>\n",
       "    <tr>\n",
       "      <td>428204</td>\n",
       "      <td>2018-09-02 05:00:00</td>\n",
       "      <td>Cell_003793</td>\n",
       "      <td>825.79943</td>\n",
       "    </tr>\n",
       "    <tr>\n",
       "      <td>428270</td>\n",
       "      <td>2018-09-02 07:00:00</td>\n",
       "      <td>Cell_003793</td>\n",
       "      <td>1522.44144</td>\n",
       "    </tr>\n",
       "    <tr>\n",
       "      <td>428309</td>\n",
       "      <td>2018-09-02 23:00:00</td>\n",
       "      <td>Cell_003793</td>\n",
       "      <td>2800.44253</td>\n",
       "    </tr>\n",
       "    <tr>\n",
       "      <td>428354</td>\n",
       "      <td>2018-09-02 20:00:00</td>\n",
       "      <td>Cell_003793</td>\n",
       "      <td>3127.74672</td>\n",
       "    </tr>\n",
       "  </tbody>\n",
       "</table>\n",
       "</div>"
      ],
      "text/plain": [
       "                  DateTime     CellName     Traffic\n",
       "428137 2018-09-02 00:00:00  Cell_003793   938.24982\n",
       "428204 2018-09-02 05:00:00  Cell_003793   825.79943\n",
       "428270 2018-09-02 07:00:00  Cell_003793  1522.44144\n",
       "428309 2018-09-02 23:00:00  Cell_003793  2800.44253\n",
       "428354 2018-09-02 20:00:00  Cell_003793  3127.74672"
      ]
     },
     "execution_count": 112,
     "metadata": {},
     "output_type": "execute_result"
    }
   ],
   "source": [
    "df_cell93_20180902.head()"
   ]
  },
  {
   "cell_type": "code",
   "execution_count": 113,
   "metadata": {},
   "outputs": [
    {
     "data": {
      "text/plain": [
       "(24, 3)"
      ]
     },
     "execution_count": 113,
     "metadata": {},
     "output_type": "execute_result"
    }
   ],
   "source": [
    "df_cell93_20180902.shape"
   ]
  },
  {
   "cell_type": "code",
   "execution_count": 119,
   "metadata": {},
   "outputs": [],
   "source": [
    "df_cell93_20180902 = df_cell93_20180902.sort_values(by='DateTime')"
   ]
  },
  {
   "cell_type": "code",
   "execution_count": 121,
   "metadata": {},
   "outputs": [],
   "source": [
    "df_cell93_20180902.set_index('DateTime', inplace=True)"
   ]
  },
  {
   "cell_type": "code",
   "execution_count": 124,
   "metadata": {},
   "outputs": [
    {
     "data": {
      "text/html": [
       "<div>\n",
       "<style scoped>\n",
       "    .dataframe tbody tr th:only-of-type {\n",
       "        vertical-align: middle;\n",
       "    }\n",
       "\n",
       "    .dataframe tbody tr th {\n",
       "        vertical-align: top;\n",
       "    }\n",
       "\n",
       "    .dataframe thead th {\n",
       "        text-align: right;\n",
       "    }\n",
       "</style>\n",
       "<table border=\"1\" class=\"dataframe\">\n",
       "  <thead>\n",
       "    <tr style=\"text-align: right;\">\n",
       "      <th></th>\n",
       "      <th>CellName</th>\n",
       "      <th>Traffic</th>\n",
       "    </tr>\n",
       "    <tr>\n",
       "      <th>DateTime</th>\n",
       "      <th></th>\n",
       "      <th></th>\n",
       "    </tr>\n",
       "  </thead>\n",
       "  <tbody>\n",
       "    <tr>\n",
       "      <td>2018-09-02 00:00:00</td>\n",
       "      <td>Cell_003793</td>\n",
       "      <td>938.24982</td>\n",
       "    </tr>\n",
       "    <tr>\n",
       "      <td>2018-09-02 01:00:00</td>\n",
       "      <td>Cell_003793</td>\n",
       "      <td>508.05927</td>\n",
       "    </tr>\n",
       "    <tr>\n",
       "      <td>2018-09-02 02:00:00</td>\n",
       "      <td>Cell_003793</td>\n",
       "      <td>1560.45242</td>\n",
       "    </tr>\n",
       "    <tr>\n",
       "      <td>2018-09-02 03:00:00</td>\n",
       "      <td>Cell_003793</td>\n",
       "      <td>151.06040</td>\n",
       "    </tr>\n",
       "    <tr>\n",
       "      <td>2018-09-02 04:00:00</td>\n",
       "      <td>Cell_003793</td>\n",
       "      <td>240.39783</td>\n",
       "    </tr>\n",
       "    <tr>\n",
       "      <td>2018-09-02 05:00:00</td>\n",
       "      <td>Cell_003793</td>\n",
       "      <td>825.79943</td>\n",
       "    </tr>\n",
       "    <tr>\n",
       "      <td>2018-09-02 06:00:00</td>\n",
       "      <td>Cell_003793</td>\n",
       "      <td>945.77117</td>\n",
       "    </tr>\n",
       "    <tr>\n",
       "      <td>2018-09-02 07:00:00</td>\n",
       "      <td>Cell_003793</td>\n",
       "      <td>1522.44144</td>\n",
       "    </tr>\n",
       "    <tr>\n",
       "      <td>2018-09-02 08:00:00</td>\n",
       "      <td>Cell_003793</td>\n",
       "      <td>2598.27832</td>\n",
       "    </tr>\n",
       "    <tr>\n",
       "      <td>2018-09-02 09:00:00</td>\n",
       "      <td>Cell_003793</td>\n",
       "      <td>3684.60079</td>\n",
       "    </tr>\n",
       "    <tr>\n",
       "      <td>2018-09-02 10:00:00</td>\n",
       "      <td>Cell_003793</td>\n",
       "      <td>4232.54801</td>\n",
       "    </tr>\n",
       "    <tr>\n",
       "      <td>2018-09-02 11:00:00</td>\n",
       "      <td>Cell_003793</td>\n",
       "      <td>4150.51716</td>\n",
       "    </tr>\n",
       "    <tr>\n",
       "      <td>2018-09-02 12:00:00</td>\n",
       "      <td>Cell_003793</td>\n",
       "      <td>5452.30841</td>\n",
       "    </tr>\n",
       "    <tr>\n",
       "      <td>2018-09-02 13:00:00</td>\n",
       "      <td>Cell_003793</td>\n",
       "      <td>3887.87486</td>\n",
       "    </tr>\n",
       "    <tr>\n",
       "      <td>2018-09-02 14:00:00</td>\n",
       "      <td>Cell_003793</td>\n",
       "      <td>5420.41356</td>\n",
       "    </tr>\n",
       "    <tr>\n",
       "      <td>2018-09-02 15:00:00</td>\n",
       "      <td>Cell_003793</td>\n",
       "      <td>3604.17349</td>\n",
       "    </tr>\n",
       "    <tr>\n",
       "      <td>2018-09-02 16:00:00</td>\n",
       "      <td>Cell_003793</td>\n",
       "      <td>2693.45219</td>\n",
       "    </tr>\n",
       "    <tr>\n",
       "      <td>2018-09-02 17:00:00</td>\n",
       "      <td>Cell_003793</td>\n",
       "      <td>3069.58580</td>\n",
       "    </tr>\n",
       "    <tr>\n",
       "      <td>2018-09-02 18:00:00</td>\n",
       "      <td>Cell_003793</td>\n",
       "      <td>3856.94253</td>\n",
       "    </tr>\n",
       "    <tr>\n",
       "      <td>2018-09-02 19:00:00</td>\n",
       "      <td>Cell_003793</td>\n",
       "      <td>4038.81446</td>\n",
       "    </tr>\n",
       "    <tr>\n",
       "      <td>2018-09-02 20:00:00</td>\n",
       "      <td>Cell_003793</td>\n",
       "      <td>3127.74672</td>\n",
       "    </tr>\n",
       "    <tr>\n",
       "      <td>2018-09-02 21:00:00</td>\n",
       "      <td>Cell_003793</td>\n",
       "      <td>5581.14067</td>\n",
       "    </tr>\n",
       "    <tr>\n",
       "      <td>2018-09-02 22:00:00</td>\n",
       "      <td>Cell_003793</td>\n",
       "      <td>4829.68265</td>\n",
       "    </tr>\n",
       "    <tr>\n",
       "      <td>2018-09-02 23:00:00</td>\n",
       "      <td>Cell_003793</td>\n",
       "      <td>2800.44253</td>\n",
       "    </tr>\n",
       "  </tbody>\n",
       "</table>\n",
       "</div>"
      ],
      "text/plain": [
       "                        CellName     Traffic\n",
       "DateTime                                    \n",
       "2018-09-02 00:00:00  Cell_003793   938.24982\n",
       "2018-09-02 01:00:00  Cell_003793   508.05927\n",
       "2018-09-02 02:00:00  Cell_003793  1560.45242\n",
       "2018-09-02 03:00:00  Cell_003793   151.06040\n",
       "2018-09-02 04:00:00  Cell_003793   240.39783\n",
       "2018-09-02 05:00:00  Cell_003793   825.79943\n",
       "2018-09-02 06:00:00  Cell_003793   945.77117\n",
       "2018-09-02 07:00:00  Cell_003793  1522.44144\n",
       "2018-09-02 08:00:00  Cell_003793  2598.27832\n",
       "2018-09-02 09:00:00  Cell_003793  3684.60079\n",
       "2018-09-02 10:00:00  Cell_003793  4232.54801\n",
       "2018-09-02 11:00:00  Cell_003793  4150.51716\n",
       "2018-09-02 12:00:00  Cell_003793  5452.30841\n",
       "2018-09-02 13:00:00  Cell_003793  3887.87486\n",
       "2018-09-02 14:00:00  Cell_003793  5420.41356\n",
       "2018-09-02 15:00:00  Cell_003793  3604.17349\n",
       "2018-09-02 16:00:00  Cell_003793  2693.45219\n",
       "2018-09-02 17:00:00  Cell_003793  3069.58580\n",
       "2018-09-02 18:00:00  Cell_003793  3856.94253\n",
       "2018-09-02 19:00:00  Cell_003793  4038.81446\n",
       "2018-09-02 20:00:00  Cell_003793  3127.74672\n",
       "2018-09-02 21:00:00  Cell_003793  5581.14067\n",
       "2018-09-02 22:00:00  Cell_003793  4829.68265\n",
       "2018-09-02 23:00:00  Cell_003793  2800.44253"
      ]
     },
     "execution_count": 124,
     "metadata": {},
     "output_type": "execute_result"
    }
   ],
   "source": [
    "df_cell93_20180902"
   ]
  },
  {
   "cell_type": "code",
   "execution_count": 125,
   "metadata": {},
   "outputs": [
    {
     "data": {
      "text/plain": [
       "<matplotlib.axes._subplots.AxesSubplot at 0x7f5d6ad0ff50>"
      ]
     },
     "execution_count": 125,
     "metadata": {},
     "output_type": "execute_result"
    },
    {
     "data": {
      "image/png": "[encoded data removed]",
      "text/plain": [
       "<Figure size 432x288 with 1 Axes>"
      ]
     },
     "metadata": {
      "needs_background": "light"
     },
     "output_type": "display_data"
    }
   ],
   "source": [
    "df_cell93_20180902.plot.bar()"
   ]
  },
  {
   "cell_type": "code",
   "execution_count": 126,
   "metadata": {},
   "outputs": [
    {
     "data": {
      "text/html": [
       "<div>\n",
       "<style scoped>\n",
       "    .dataframe tbody tr th:only-of-type {\n",
       "        vertical-align: middle;\n",
       "    }\n",
       "\n",
       "    .dataframe tbody tr th {\n",
       "        vertical-align: top;\n",
       "    }\n",
       "\n",
       "    .dataframe thead th {\n",
       "        text-align: right;\n",
       "    }\n",
       "</style>\n",
       "<table border=\"1\" class=\"dataframe\">\n",
       "  <thead>\n",
       "    <tr style=\"text-align: right;\">\n",
       "      <th></th>\n",
       "      <th>DateTime</th>\n",
       "      <th>CellName</th>\n",
       "      <th>Traffic</th>\n",
       "    </tr>\n",
       "  </thead>\n",
       "  <tbody>\n",
       "    <tr>\n",
       "      <td>497477</td>\n",
       "      <td>2018-10-22 22:00:00</td>\n",
       "      <td>Cell_004073</td>\n",
       "      <td>10282.96334</td>\n",
       "    </tr>\n",
       "    <tr>\n",
       "      <td>445631</td>\n",
       "      <td>2018-09-14 03:00:00</td>\n",
       "      <td>Cell_004072</td>\n",
       "      <td>9640.18021</td>\n",
       "    </tr>\n",
       "    <tr>\n",
       "      <td>494679</td>\n",
       "      <td>2018-10-20 21:00:00</td>\n",
       "      <td>Cell_006661</td>\n",
       "      <td>8873.07994</td>\n",
       "    </tr>\n",
       "    <tr>\n",
       "      <td>206759</td>\n",
       "      <td>2018-03-23 15:00:00</td>\n",
       "      <td>Cell_000462</td>\n",
       "      <td>8619.50463</td>\n",
       "    </tr>\n",
       "    <tr>\n",
       "      <td>409097</td>\n",
       "      <td>2018-08-18 20:00:00</td>\n",
       "      <td>Cell_003793</td>\n",
       "      <td>8412.21761</td>\n",
       "    </tr>\n",
       "    <tr>\n",
       "      <td>363860</td>\n",
       "      <td>2018-07-16 14:00:00</td>\n",
       "      <td>Cell_006651</td>\n",
       "      <td>8403.72709</td>\n",
       "    </tr>\n",
       "    <tr>\n",
       "      <td>423149</td>\n",
       "      <td>2018-08-29 21:00:00</td>\n",
       "      <td>Cell_004072</td>\n",
       "      <td>8334.38913</td>\n",
       "    </tr>\n",
       "    <tr>\n",
       "      <td>303383</td>\n",
       "      <td>2018-06-02 16:00:00</td>\n",
       "      <td>Cell_006651</td>\n",
       "      <td>8201.65161</td>\n",
       "    </tr>\n",
       "    <tr>\n",
       "      <td>474203</td>\n",
       "      <td>2018-10-05 21:00:00</td>\n",
       "      <td>Cell_000111</td>\n",
       "      <td>8200.43549</td>\n",
       "    </tr>\n",
       "    <tr>\n",
       "      <td>485096</td>\n",
       "      <td>2018-10-13 20:00:00</td>\n",
       "      <td>Cell_006661</td>\n",
       "      <td>8122.70399</td>\n",
       "    </tr>\n",
       "  </tbody>\n",
       "</table>\n",
       "</div>"
      ],
      "text/plain": [
       "                  DateTime     CellName      Traffic\n",
       "497477 2018-10-22 22:00:00  Cell_004073  10282.96334\n",
       "445631 2018-09-14 03:00:00  Cell_004072   9640.18021\n",
       "494679 2018-10-20 21:00:00  Cell_006661   8873.07994\n",
       "206759 2018-03-23 15:00:00  Cell_000462   8619.50463\n",
       "409097 2018-08-18 20:00:00  Cell_003793   8412.21761\n",
       "363860 2018-07-16 14:00:00  Cell_006651   8403.72709\n",
       "423149 2018-08-29 21:00:00  Cell_004072   8334.38913\n",
       "303383 2018-06-02 16:00:00  Cell_006651   8201.65161\n",
       "474203 2018-10-05 21:00:00  Cell_000111   8200.43549\n",
       "485096 2018-10-13 20:00:00  Cell_006661   8122.70399"
      ]
     },
     "execution_count": 126,
     "metadata": {},
     "output_type": "execute_result"
    }
   ],
   "source": [
    "df.sort_values('Traffic', ascending=False)[:10]"
   ]
  },
  {
   "cell_type": "code",
   "execution_count": null,
   "metadata": {},
   "outputs": [],
   "source": []
  },
  {
   "cell_type": "code",
   "execution_count": 134,
   "metadata": {},
   "outputs": [],
   "source": [
    "df_natal_month = df.set_index('DateTime').groupby(pd.Grouper(freq='M')).mean()"
   ]
  },
  {
   "cell_type": "code",
   "execution_count": 138,
   "metadata": {},
   "outputs": [
    {
     "data": {
      "text/html": [
       "<div>\n",
       "<style scoped>\n",
       "    .dataframe tbody tr th:only-of-type {\n",
       "        vertical-align: middle;\n",
       "    }\n",
       "\n",
       "    .dataframe tbody tr th {\n",
       "        vertical-align: top;\n",
       "    }\n",
       "\n",
       "    .dataframe thead th {\n",
       "        text-align: right;\n",
       "    }\n",
       "</style>\n",
       "<table border=\"1\" class=\"dataframe\">\n",
       "  <thead>\n",
       "    <tr style=\"text-align: right;\">\n",
       "      <th></th>\n",
       "      <th>Traffic</th>\n",
       "    </tr>\n",
       "    <tr>\n",
       "      <th>DateTime</th>\n",
       "      <th></th>\n",
       "    </tr>\n",
       "  </thead>\n",
       "  <tbody>\n",
       "    <tr>\n",
       "      <td>2017-10-31</td>\n",
       "      <td>242.070755</td>\n",
       "    </tr>\n",
       "    <tr>\n",
       "      <td>2017-11-30</td>\n",
       "      <td>277.820034</td>\n",
       "    </tr>\n",
       "    <tr>\n",
       "      <td>2017-12-31</td>\n",
       "      <td>297.319168</td>\n",
       "    </tr>\n",
       "    <tr>\n",
       "      <td>2018-01-31</td>\n",
       "      <td>310.937760</td>\n",
       "    </tr>\n",
       "    <tr>\n",
       "      <td>2018-02-28</td>\n",
       "      <td>451.366820</td>\n",
       "    </tr>\n",
       "    <tr>\n",
       "      <td>2018-03-31</td>\n",
       "      <td>382.080225</td>\n",
       "    </tr>\n",
       "    <tr>\n",
       "      <td>2018-04-30</td>\n",
       "      <td>442.578244</td>\n",
       "    </tr>\n",
       "    <tr>\n",
       "      <td>2018-05-31</td>\n",
       "      <td>515.535185</td>\n",
       "    </tr>\n",
       "    <tr>\n",
       "      <td>2018-06-30</td>\n",
       "      <td>642.914413</td>\n",
       "    </tr>\n",
       "    <tr>\n",
       "      <td>2018-07-31</td>\n",
       "      <td>717.987839</td>\n",
       "    </tr>\n",
       "    <tr>\n",
       "      <td>2018-08-31</td>\n",
       "      <td>761.412625</td>\n",
       "    </tr>\n",
       "    <tr>\n",
       "      <td>2018-09-30</td>\n",
       "      <td>830.385220</td>\n",
       "    </tr>\n",
       "    <tr>\n",
       "      <td>2018-10-31</td>\n",
       "      <td>865.806898</td>\n",
       "    </tr>\n",
       "  </tbody>\n",
       "</table>\n",
       "</div>"
      ],
      "text/plain": [
       "               Traffic\n",
       "DateTime              \n",
       "2017-10-31  242.070755\n",
       "2017-11-30  277.820034\n",
       "2017-12-31  297.319168\n",
       "2018-01-31  310.937760\n",
       "2018-02-28  451.366820\n",
       "2018-03-31  382.080225\n",
       "2018-04-30  442.578244\n",
       "2018-05-31  515.535185\n",
       "2018-06-30  642.914413\n",
       "2018-07-31  717.987839\n",
       "2018-08-31  761.412625\n",
       "2018-09-30  830.385220\n",
       "2018-10-31  865.806898"
      ]
     },
     "execution_count": 138,
     "metadata": {},
     "output_type": "execute_result"
    }
   ],
   "source": [
    "df_natal_month"
   ]
  },
  {
   "cell_type": "code",
   "execution_count": 139,
   "metadata": {},
   "outputs": [],
   "source": [
    "df_natal_month_day = df.set_index('DateTime').groupby(pd.Grouper(freq='D')).mean()"
   ]
  },
  {
   "cell_type": "code",
   "execution_count": 140,
   "metadata": {},
   "outputs": [
    {
     "data": {
      "text/html": [
       "<div>\n",
       "<style scoped>\n",
       "    .dataframe tbody tr th:only-of-type {\n",
       "        vertical-align: middle;\n",
       "    }\n",
       "\n",
       "    .dataframe tbody tr th {\n",
       "        vertical-align: top;\n",
       "    }\n",
       "\n",
       "    .dataframe thead th {\n",
       "        text-align: right;\n",
       "    }\n",
       "</style>\n",
       "<table border=\"1\" class=\"dataframe\">\n",
       "  <thead>\n",
       "    <tr style=\"text-align: right;\">\n",
       "      <th></th>\n",
       "      <th>Traffic</th>\n",
       "    </tr>\n",
       "    <tr>\n",
       "      <th>DateTime</th>\n",
       "      <th></th>\n",
       "    </tr>\n",
       "  </thead>\n",
       "  <tbody>\n",
       "    <tr>\n",
       "      <td>2017-10-23</td>\n",
       "      <td>210.647243</td>\n",
       "    </tr>\n",
       "    <tr>\n",
       "      <td>2017-10-24</td>\n",
       "      <td>227.011231</td>\n",
       "    </tr>\n",
       "    <tr>\n",
       "      <td>2017-10-25</td>\n",
       "      <td>216.127316</td>\n",
       "    </tr>\n",
       "    <tr>\n",
       "      <td>2017-10-26</td>\n",
       "      <td>207.749936</td>\n",
       "    </tr>\n",
       "    <tr>\n",
       "      <td>2017-10-27</td>\n",
       "      <td>224.193068</td>\n",
       "    </tr>\n",
       "    <tr>\n",
       "      <td>...</td>\n",
       "      <td>...</td>\n",
       "    </tr>\n",
       "    <tr>\n",
       "      <td>2018-10-18</td>\n",
       "      <td>818.283265</td>\n",
       "    </tr>\n",
       "    <tr>\n",
       "      <td>2018-10-19</td>\n",
       "      <td>887.460794</td>\n",
       "    </tr>\n",
       "    <tr>\n",
       "      <td>2018-10-20</td>\n",
       "      <td>947.628225</td>\n",
       "    </tr>\n",
       "    <tr>\n",
       "      <td>2018-10-21</td>\n",
       "      <td>1168.410338</td>\n",
       "    </tr>\n",
       "    <tr>\n",
       "      <td>2018-10-22</td>\n",
       "      <td>837.662122</td>\n",
       "    </tr>\n",
       "  </tbody>\n",
       "</table>\n",
       "<p>365 rows × 1 columns</p>\n",
       "</div>"
      ],
      "text/plain": [
       "                Traffic\n",
       "DateTime               \n",
       "2017-10-23   210.647243\n",
       "2017-10-24   227.011231\n",
       "2017-10-25   216.127316\n",
       "2017-10-26   207.749936\n",
       "2017-10-27   224.193068\n",
       "...                 ...\n",
       "2018-10-18   818.283265\n",
       "2018-10-19   887.460794\n",
       "2018-10-20   947.628225\n",
       "2018-10-21  1168.410338\n",
       "2018-10-22   837.662122\n",
       "\n",
       "[365 rows x 1 columns]"
      ]
     },
     "execution_count": 140,
     "metadata": {},
     "output_type": "execute_result"
    }
   ],
   "source": [
    "df_natal_month_day"
   ]
  },
  {
   "cell_type": "code",
   "execution_count": 141,
   "metadata": {},
   "outputs": [],
   "source": [
    "df_natal_month_day_hour = df.set_index('DateTime').groupby(pd.Grouper(freq='H')).mean()"
   ]
  },
  {
   "cell_type": "code",
   "execution_count": 142,
   "metadata": {},
   "outputs": [
    {
     "data": {
      "text/html": [
       "<div>\n",
       "<style scoped>\n",
       "    .dataframe tbody tr th:only-of-type {\n",
       "        vertical-align: middle;\n",
       "    }\n",
       "\n",
       "    .dataframe tbody tr th {\n",
       "        vertical-align: top;\n",
       "    }\n",
       "\n",
       "    .dataframe thead th {\n",
       "        text-align: right;\n",
       "    }\n",
       "</style>\n",
       "<table border=\"1\" class=\"dataframe\">\n",
       "  <thead>\n",
       "    <tr style=\"text-align: right;\">\n",
       "      <th></th>\n",
       "      <th>Traffic</th>\n",
       "    </tr>\n",
       "    <tr>\n",
       "      <th>DateTime</th>\n",
       "      <th></th>\n",
       "    </tr>\n",
       "  </thead>\n",
       "  <tbody>\n",
       "    <tr>\n",
       "      <td>2017-10-23 00:00:00</td>\n",
       "      <td>49.155743</td>\n",
       "    </tr>\n",
       "    <tr>\n",
       "      <td>2017-10-23 01:00:00</td>\n",
       "      <td>17.716571</td>\n",
       "    </tr>\n",
       "    <tr>\n",
       "      <td>2017-10-23 02:00:00</td>\n",
       "      <td>16.635746</td>\n",
       "    </tr>\n",
       "    <tr>\n",
       "      <td>2017-10-23 03:00:00</td>\n",
       "      <td>10.443251</td>\n",
       "    </tr>\n",
       "    <tr>\n",
       "      <td>2017-10-23 04:00:00</td>\n",
       "      <td>29.735792</td>\n",
       "    </tr>\n",
       "    <tr>\n",
       "      <td>...</td>\n",
       "      <td>...</td>\n",
       "    </tr>\n",
       "    <tr>\n",
       "      <td>2018-10-22 19:00:00</td>\n",
       "      <td>2292.226987</td>\n",
       "    </tr>\n",
       "    <tr>\n",
       "      <td>2018-10-22 20:00:00</td>\n",
       "      <td>2339.705525</td>\n",
       "    </tr>\n",
       "    <tr>\n",
       "      <td>2018-10-22 21:00:00</td>\n",
       "      <td>1877.776245</td>\n",
       "    </tr>\n",
       "    <tr>\n",
       "      <td>2018-10-22 22:00:00</td>\n",
       "      <td>1409.722080</td>\n",
       "    </tr>\n",
       "    <tr>\n",
       "      <td>2018-10-22 23:00:00</td>\n",
       "      <td>762.438428</td>\n",
       "    </tr>\n",
       "  </tbody>\n",
       "</table>\n",
       "<p>8760 rows × 1 columns</p>\n",
       "</div>"
      ],
      "text/plain": [
       "                         Traffic\n",
       "DateTime                        \n",
       "2017-10-23 00:00:00    49.155743\n",
       "2017-10-23 01:00:00    17.716571\n",
       "2017-10-23 02:00:00    16.635746\n",
       "2017-10-23 03:00:00    10.443251\n",
       "2017-10-23 04:00:00    29.735792\n",
       "...                          ...\n",
       "2018-10-22 19:00:00  2292.226987\n",
       "2018-10-22 20:00:00  2339.705525\n",
       "2018-10-22 21:00:00  1877.776245\n",
       "2018-10-22 22:00:00  1409.722080\n",
       "2018-10-22 23:00:00   762.438428\n",
       "\n",
       "[8760 rows x 1 columns]"
      ]
     },
     "execution_count": 142,
     "metadata": {},
     "output_type": "execute_result"
    }
   ],
   "source": [
    "df_natal_month_day_hour"
   ]
  },
  {
   "cell_type": "code",
   "execution_count": 143,
   "metadata": {},
   "outputs": [],
   "source": [
    "df_by_hour = df.groupby(['DateTime'])['Traffic'].mean()"
   ]
  },
  {
   "cell_type": "code",
   "execution_count": 144,
   "metadata": {},
   "outputs": [
    {
     "data": {
      "text/plain": [
       "DateTime\n",
       "2017-10-23 00:00:00      49.155743\n",
       "2017-10-23 01:00:00      17.716571\n",
       "2017-10-23 02:00:00      16.635746\n",
       "2017-10-23 03:00:00      10.443251\n",
       "2017-10-23 04:00:00      29.735792\n",
       "                          ...     \n",
       "2018-10-22 19:00:00    2292.226987\n",
       "2018-10-22 20:00:00    2339.705525\n",
       "2018-10-22 21:00:00    1877.776245\n",
       "2018-10-22 22:00:00    1409.722080\n",
       "2018-10-22 23:00:00     762.438428\n",
       "Name: Traffic, Length: 8738, dtype: float64"
      ]
     },
     "execution_count": 144,
     "metadata": {},
     "output_type": "execute_result"
    }
   ],
   "source": [
    "df_by_hour"
   ]
  },
  {
   "cell_type": "code",
   "execution_count": 147,
   "metadata": {},
   "outputs": [],
   "source": [
    "df_by_hour2 = df_by_hour.reset_index().sort_values(by='DateTime', ascending=False)"
   ]
  },
  {
   "cell_type": "code",
   "execution_count": 146,
   "metadata": {},
   "outputs": [
    {
     "data": {
      "text/html": [
       "<div>\n",
       "<style scoped>\n",
       "    .dataframe tbody tr th:only-of-type {\n",
       "        vertical-align: middle;\n",
       "    }\n",
       "\n",
       "    .dataframe tbody tr th {\n",
       "        vertical-align: top;\n",
       "    }\n",
       "\n",
       "    .dataframe thead th {\n",
       "        text-align: right;\n",
       "    }\n",
       "</style>\n",
       "<table border=\"1\" class=\"dataframe\">\n",
       "  <thead>\n",
       "    <tr style=\"text-align: right;\">\n",
       "      <th></th>\n",
       "      <th>DateTime</th>\n",
       "      <th>Traffic</th>\n",
       "    </tr>\n",
       "  </thead>\n",
       "  <tbody>\n",
       "    <tr>\n",
       "      <td>8535</td>\n",
       "      <td>2018-10-14 12:00:00</td>\n",
       "      <td>2577.206810</td>\n",
       "    </tr>\n",
       "    <tr>\n",
       "      <td>8519</td>\n",
       "      <td>2018-10-13 20:00:00</td>\n",
       "      <td>2532.875992</td>\n",
       "    </tr>\n",
       "    <tr>\n",
       "      <td>8686</td>\n",
       "      <td>2018-10-20 20:00:00</td>\n",
       "      <td>2392.289017</td>\n",
       "    </tr>\n",
       "    <tr>\n",
       "      <td>8639</td>\n",
       "      <td>2018-10-18 20:00:00</td>\n",
       "      <td>2365.692585</td>\n",
       "    </tr>\n",
       "    <tr>\n",
       "      <td>7512</td>\n",
       "      <td>2018-09-01 21:00:00</td>\n",
       "      <td>2360.285155</td>\n",
       "    </tr>\n",
       "  </tbody>\n",
       "</table>\n",
       "</div>"
      ],
      "text/plain": [
       "                DateTime      Traffic\n",
       "8535 2018-10-14 12:00:00  2577.206810\n",
       "8519 2018-10-13 20:00:00  2532.875992\n",
       "8686 2018-10-20 20:00:00  2392.289017\n",
       "8639 2018-10-18 20:00:00  2365.692585\n",
       "7512 2018-09-01 21:00:00  2360.285155"
      ]
     },
     "execution_count": 146,
     "metadata": {},
     "output_type": "execute_result"
    }
   ],
   "source": [
    "df_by_hour.head()"
   ]
  },
  {
   "cell_type": "code",
   "execution_count": 148,
   "metadata": {},
   "outputs": [
    {
     "data": {
      "text/html": [
       "<div>\n",
       "<style scoped>\n",
       "    .dataframe tbody tr th:only-of-type {\n",
       "        vertical-align: middle;\n",
       "    }\n",
       "\n",
       "    .dataframe tbody tr th {\n",
       "        vertical-align: top;\n",
       "    }\n",
       "\n",
       "    .dataframe thead th {\n",
       "        text-align: right;\n",
       "    }\n",
       "</style>\n",
       "<table border=\"1\" class=\"dataframe\">\n",
       "  <thead>\n",
       "    <tr style=\"text-align: right;\">\n",
       "      <th></th>\n",
       "      <th>index</th>\n",
       "      <th>DateTime</th>\n",
       "      <th>Traffic</th>\n",
       "    </tr>\n",
       "  </thead>\n",
       "  <tbody>\n",
       "    <tr>\n",
       "      <td>1964</td>\n",
       "      <td>8737</td>\n",
       "      <td>2018-10-22 23:00:00</td>\n",
       "      <td>762.438428</td>\n",
       "    </tr>\n",
       "    <tr>\n",
       "      <td>454</td>\n",
       "      <td>8736</td>\n",
       "      <td>2018-10-22 22:00:00</td>\n",
       "      <td>1409.722080</td>\n",
       "    </tr>\n",
       "    <tr>\n",
       "      <td>93</td>\n",
       "      <td>8735</td>\n",
       "      <td>2018-10-22 21:00:00</td>\n",
       "      <td>1877.776245</td>\n",
       "    </tr>\n",
       "    <tr>\n",
       "      <td>6</td>\n",
       "      <td>8734</td>\n",
       "      <td>2018-10-22 20:00:00</td>\n",
       "      <td>2339.705525</td>\n",
       "    </tr>\n",
       "    <tr>\n",
       "      <td>9</td>\n",
       "      <td>8733</td>\n",
       "      <td>2018-10-22 19:00:00</td>\n",
       "      <td>2292.226987</td>\n",
       "    </tr>\n",
       "  </tbody>\n",
       "</table>\n",
       "</div>"
      ],
      "text/plain": [
       "      index            DateTime      Traffic\n",
       "1964   8737 2018-10-22 23:00:00   762.438428\n",
       "454    8736 2018-10-22 22:00:00  1409.722080\n",
       "93     8735 2018-10-22 21:00:00  1877.776245\n",
       "6      8734 2018-10-22 20:00:00  2339.705525\n",
       "9      8733 2018-10-22 19:00:00  2292.226987"
      ]
     },
     "execution_count": 148,
     "metadata": {},
     "output_type": "execute_result"
    }
   ],
   "source": [
    "df_by_hour2.head()"
   ]
  },
  {
   "cell_type": "code",
   "execution_count": 156,
   "metadata": {},
   "outputs": [],
   "source": [
    "df_natal_hora = df_by_hour[(df_by_hour['DateTime'] >= '2017-12-24 18:00:00') & (df_by_hour['DateTime'] < '2017-12-25 23:00:00')]"
   ]
  },
  {
   "cell_type": "code",
   "execution_count": 157,
   "metadata": {},
   "outputs": [
    {
     "data": {
      "text/html": [
       "<div>\n",
       "<style scoped>\n",
       "    .dataframe tbody tr th:only-of-type {\n",
       "        vertical-align: middle;\n",
       "    }\n",
       "\n",
       "    .dataframe tbody tr th {\n",
       "        vertical-align: top;\n",
       "    }\n",
       "\n",
       "    .dataframe thead th {\n",
       "        text-align: right;\n",
       "    }\n",
       "</style>\n",
       "<table border=\"1\" class=\"dataframe\">\n",
       "  <thead>\n",
       "    <tr style=\"text-align: right;\">\n",
       "      <th></th>\n",
       "      <th>DateTime</th>\n",
       "      <th>Traffic</th>\n",
       "    </tr>\n",
       "  </thead>\n",
       "  <tbody>\n",
       "    <tr>\n",
       "      <td>1530</td>\n",
       "      <td>2017-12-25 20:00:00</td>\n",
       "      <td>693.045611</td>\n",
       "    </tr>\n",
       "    <tr>\n",
       "      <td>1529</td>\n",
       "      <td>2017-12-25 19:00:00</td>\n",
       "      <td>661.878339</td>\n",
       "    </tr>\n",
       "    <tr>\n",
       "      <td>1506</td>\n",
       "      <td>2017-12-24 20:00:00</td>\n",
       "      <td>611.112486</td>\n",
       "    </tr>\n",
       "    <tr>\n",
       "      <td>1505</td>\n",
       "      <td>2017-12-24 19:00:00</td>\n",
       "      <td>605.523052</td>\n",
       "    </tr>\n",
       "    <tr>\n",
       "      <td>1531</td>\n",
       "      <td>2017-12-25 21:00:00</td>\n",
       "      <td>575.625316</td>\n",
       "    </tr>\n",
       "    <tr>\n",
       "      <td>1528</td>\n",
       "      <td>2017-12-25 18:00:00</td>\n",
       "      <td>534.806259</td>\n",
       "    </tr>\n",
       "    <tr>\n",
       "      <td>1507</td>\n",
       "      <td>2017-12-24 21:00:00</td>\n",
       "      <td>513.107964</td>\n",
       "    </tr>\n",
       "    <tr>\n",
       "      <td>1526</td>\n",
       "      <td>2017-12-25 16:00:00</td>\n",
       "      <td>503.356741</td>\n",
       "    </tr>\n",
       "    <tr>\n",
       "      <td>1504</td>\n",
       "      <td>2017-12-24 18:00:00</td>\n",
       "      <td>492.089900</td>\n",
       "    </tr>\n",
       "    <tr>\n",
       "      <td>1527</td>\n",
       "      <td>2017-12-25 17:00:00</td>\n",
       "      <td>488.089338</td>\n",
       "    </tr>\n",
       "    <tr>\n",
       "      <td>1522</td>\n",
       "      <td>2017-12-25 12:00:00</td>\n",
       "      <td>432.748746</td>\n",
       "    </tr>\n",
       "    <tr>\n",
       "      <td>1525</td>\n",
       "      <td>2017-12-25 15:00:00</td>\n",
       "      <td>412.684492</td>\n",
       "    </tr>\n",
       "    <tr>\n",
       "      <td>1524</td>\n",
       "      <td>2017-12-25 14:00:00</td>\n",
       "      <td>411.580010</td>\n",
       "    </tr>\n",
       "    <tr>\n",
       "      <td>1521</td>\n",
       "      <td>2017-12-25 11:00:00</td>\n",
       "      <td>404.549241</td>\n",
       "    </tr>\n",
       "    <tr>\n",
       "      <td>1508</td>\n",
       "      <td>2017-12-24 22:00:00</td>\n",
       "      <td>393.997140</td>\n",
       "    </tr>\n",
       "    <tr>\n",
       "      <td>1523</td>\n",
       "      <td>2017-12-25 13:00:00</td>\n",
       "      <td>376.118811</td>\n",
       "    </tr>\n",
       "    <tr>\n",
       "      <td>1520</td>\n",
       "      <td>2017-12-25 10:00:00</td>\n",
       "      <td>348.544122</td>\n",
       "    </tr>\n",
       "    <tr>\n",
       "      <td>1532</td>\n",
       "      <td>2017-12-25 22:00:00</td>\n",
       "      <td>327.712522</td>\n",
       "    </tr>\n",
       "    <tr>\n",
       "      <td>1519</td>\n",
       "      <td>2017-12-25 09:00:00</td>\n",
       "      <td>314.775628</td>\n",
       "    </tr>\n",
       "    <tr>\n",
       "      <td>1518</td>\n",
       "      <td>2017-12-25 08:00:00</td>\n",
       "      <td>293.904825</td>\n",
       "    </tr>\n",
       "    <tr>\n",
       "      <td>1509</td>\n",
       "      <td>2017-12-24 23:00:00</td>\n",
       "      <td>263.810411</td>\n",
       "    </tr>\n",
       "    <tr>\n",
       "      <td>1517</td>\n",
       "      <td>2017-12-25 07:00:00</td>\n",
       "      <td>213.739024</td>\n",
       "    </tr>\n",
       "    <tr>\n",
       "      <td>1510</td>\n",
       "      <td>2017-12-25 00:00:00</td>\n",
       "      <td>178.514566</td>\n",
       "    </tr>\n",
       "    <tr>\n",
       "      <td>1515</td>\n",
       "      <td>2017-12-25 05:00:00</td>\n",
       "      <td>146.011597</td>\n",
       "    </tr>\n",
       "    <tr>\n",
       "      <td>1516</td>\n",
       "      <td>2017-12-25 06:00:00</td>\n",
       "      <td>135.101599</td>\n",
       "    </tr>\n",
       "    <tr>\n",
       "      <td>1514</td>\n",
       "      <td>2017-12-25 04:00:00</td>\n",
       "      <td>89.908392</td>\n",
       "    </tr>\n",
       "    <tr>\n",
       "      <td>1511</td>\n",
       "      <td>2017-12-25 01:00:00</td>\n",
       "      <td>82.268968</td>\n",
       "    </tr>\n",
       "    <tr>\n",
       "      <td>1513</td>\n",
       "      <td>2017-12-25 03:00:00</td>\n",
       "      <td>47.325293</td>\n",
       "    </tr>\n",
       "    <tr>\n",
       "      <td>1512</td>\n",
       "      <td>2017-12-25 02:00:00</td>\n",
       "      <td>34.911879</td>\n",
       "    </tr>\n",
       "  </tbody>\n",
       "</table>\n",
       "</div>"
      ],
      "text/plain": [
       "                DateTime     Traffic\n",
       "1530 2017-12-25 20:00:00  693.045611\n",
       "1529 2017-12-25 19:00:00  661.878339\n",
       "1506 2017-12-24 20:00:00  611.112486\n",
       "1505 2017-12-24 19:00:00  605.523052\n",
       "1531 2017-12-25 21:00:00  575.625316\n",
       "1528 2017-12-25 18:00:00  534.806259\n",
       "1507 2017-12-24 21:00:00  513.107964\n",
       "1526 2017-12-25 16:00:00  503.356741\n",
       "1504 2017-12-24 18:00:00  492.089900\n",
       "1527 2017-12-25 17:00:00  488.089338\n",
       "1522 2017-12-25 12:00:00  432.748746\n",
       "1525 2017-12-25 15:00:00  412.684492\n",
       "1524 2017-12-25 14:00:00  411.580010\n",
       "1521 2017-12-25 11:00:00  404.549241\n",
       "1508 2017-12-24 22:00:00  393.997140\n",
       "1523 2017-12-25 13:00:00  376.118811\n",
       "1520 2017-12-25 10:00:00  348.544122\n",
       "1532 2017-12-25 22:00:00  327.712522\n",
       "1519 2017-12-25 09:00:00  314.775628\n",
       "1518 2017-12-25 08:00:00  293.904825\n",
       "1509 2017-12-24 23:00:00  263.810411\n",
       "1517 2017-12-25 07:00:00  213.739024\n",
       "1510 2017-12-25 00:00:00  178.514566\n",
       "1515 2017-12-25 05:00:00  146.011597\n",
       "1516 2017-12-25 06:00:00  135.101599\n",
       "1514 2017-12-25 04:00:00   89.908392\n",
       "1511 2017-12-25 01:00:00   82.268968\n",
       "1513 2017-12-25 03:00:00   47.325293\n",
       "1512 2017-12-25 02:00:00   34.911879"
      ]
     },
     "execution_count": 157,
     "metadata": {},
     "output_type": "execute_result"
    }
   ],
   "source": [
    "df_natal_hora"
   ]
  },
  {
   "cell_type": "code",
   "execution_count": 160,
   "metadata": {},
   "outputs": [],
   "source": [
    "df_natal_hora = df_natal_hora.sort_values(by='DateTime', ascending=True)"
   ]
  },
  {
   "cell_type": "code",
   "execution_count": 161,
   "metadata": {},
   "outputs": [
    {
     "data": {
      "text/html": [
       "<div>\n",
       "<style scoped>\n",
       "    .dataframe tbody tr th:only-of-type {\n",
       "        vertical-align: middle;\n",
       "    }\n",
       "\n",
       "    .dataframe tbody tr th {\n",
       "        vertical-align: top;\n",
       "    }\n",
       "\n",
       "    .dataframe thead th {\n",
       "        text-align: right;\n",
       "    }\n",
       "</style>\n",
       "<table border=\"1\" class=\"dataframe\">\n",
       "  <thead>\n",
       "    <tr style=\"text-align: right;\">\n",
       "      <th></th>\n",
       "      <th>DateTime</th>\n",
       "      <th>Traffic</th>\n",
       "    </tr>\n",
       "  </thead>\n",
       "  <tbody>\n",
       "    <tr>\n",
       "      <td>1504</td>\n",
       "      <td>2017-12-24 18:00:00</td>\n",
       "      <td>492.089900</td>\n",
       "    </tr>\n",
       "    <tr>\n",
       "      <td>1505</td>\n",
       "      <td>2017-12-24 19:00:00</td>\n",
       "      <td>605.523052</td>\n",
       "    </tr>\n",
       "    <tr>\n",
       "      <td>1506</td>\n",
       "      <td>2017-12-24 20:00:00</td>\n",
       "      <td>611.112486</td>\n",
       "    </tr>\n",
       "    <tr>\n",
       "      <td>1507</td>\n",
       "      <td>2017-12-24 21:00:00</td>\n",
       "      <td>513.107964</td>\n",
       "    </tr>\n",
       "    <tr>\n",
       "      <td>1508</td>\n",
       "      <td>2017-12-24 22:00:00</td>\n",
       "      <td>393.997140</td>\n",
       "    </tr>\n",
       "    <tr>\n",
       "      <td>1509</td>\n",
       "      <td>2017-12-24 23:00:00</td>\n",
       "      <td>263.810411</td>\n",
       "    </tr>\n",
       "    <tr>\n",
       "      <td>1510</td>\n",
       "      <td>2017-12-25 00:00:00</td>\n",
       "      <td>178.514566</td>\n",
       "    </tr>\n",
       "    <tr>\n",
       "      <td>1511</td>\n",
       "      <td>2017-12-25 01:00:00</td>\n",
       "      <td>82.268968</td>\n",
       "    </tr>\n",
       "    <tr>\n",
       "      <td>1512</td>\n",
       "      <td>2017-12-25 02:00:00</td>\n",
       "      <td>34.911879</td>\n",
       "    </tr>\n",
       "    <tr>\n",
       "      <td>1513</td>\n",
       "      <td>2017-12-25 03:00:00</td>\n",
       "      <td>47.325293</td>\n",
       "    </tr>\n",
       "    <tr>\n",
       "      <td>1514</td>\n",
       "      <td>2017-12-25 04:00:00</td>\n",
       "      <td>89.908392</td>\n",
       "    </tr>\n",
       "    <tr>\n",
       "      <td>1515</td>\n",
       "      <td>2017-12-25 05:00:00</td>\n",
       "      <td>146.011597</td>\n",
       "    </tr>\n",
       "    <tr>\n",
       "      <td>1516</td>\n",
       "      <td>2017-12-25 06:00:00</td>\n",
       "      <td>135.101599</td>\n",
       "    </tr>\n",
       "    <tr>\n",
       "      <td>1517</td>\n",
       "      <td>2017-12-25 07:00:00</td>\n",
       "      <td>213.739024</td>\n",
       "    </tr>\n",
       "    <tr>\n",
       "      <td>1518</td>\n",
       "      <td>2017-12-25 08:00:00</td>\n",
       "      <td>293.904825</td>\n",
       "    </tr>\n",
       "    <tr>\n",
       "      <td>1519</td>\n",
       "      <td>2017-12-25 09:00:00</td>\n",
       "      <td>314.775628</td>\n",
       "    </tr>\n",
       "    <tr>\n",
       "      <td>1520</td>\n",
       "      <td>2017-12-25 10:00:00</td>\n",
       "      <td>348.544122</td>\n",
       "    </tr>\n",
       "    <tr>\n",
       "      <td>1521</td>\n",
       "      <td>2017-12-25 11:00:00</td>\n",
       "      <td>404.549241</td>\n",
       "    </tr>\n",
       "    <tr>\n",
       "      <td>1522</td>\n",
       "      <td>2017-12-25 12:00:00</td>\n",
       "      <td>432.748746</td>\n",
       "    </tr>\n",
       "    <tr>\n",
       "      <td>1523</td>\n",
       "      <td>2017-12-25 13:00:00</td>\n",
       "      <td>376.118811</td>\n",
       "    </tr>\n",
       "    <tr>\n",
       "      <td>1524</td>\n",
       "      <td>2017-12-25 14:00:00</td>\n",
       "      <td>411.580010</td>\n",
       "    </tr>\n",
       "    <tr>\n",
       "      <td>1525</td>\n",
       "      <td>2017-12-25 15:00:00</td>\n",
       "      <td>412.684492</td>\n",
       "    </tr>\n",
       "    <tr>\n",
       "      <td>1526</td>\n",
       "      <td>2017-12-25 16:00:00</td>\n",
       "      <td>503.356741</td>\n",
       "    </tr>\n",
       "    <tr>\n",
       "      <td>1527</td>\n",
       "      <td>2017-12-25 17:00:00</td>\n",
       "      <td>488.089338</td>\n",
       "    </tr>\n",
       "    <tr>\n",
       "      <td>1528</td>\n",
       "      <td>2017-12-25 18:00:00</td>\n",
       "      <td>534.806259</td>\n",
       "    </tr>\n",
       "    <tr>\n",
       "      <td>1529</td>\n",
       "      <td>2017-12-25 19:00:00</td>\n",
       "      <td>661.878339</td>\n",
       "    </tr>\n",
       "    <tr>\n",
       "      <td>1530</td>\n",
       "      <td>2017-12-25 20:00:00</td>\n",
       "      <td>693.045611</td>\n",
       "    </tr>\n",
       "    <tr>\n",
       "      <td>1531</td>\n",
       "      <td>2017-12-25 21:00:00</td>\n",
       "      <td>575.625316</td>\n",
       "    </tr>\n",
       "    <tr>\n",
       "      <td>1532</td>\n",
       "      <td>2017-12-25 22:00:00</td>\n",
       "      <td>327.712522</td>\n",
       "    </tr>\n",
       "  </tbody>\n",
       "</table>\n",
       "</div>"
      ],
      "text/plain": [
       "                DateTime     Traffic\n",
       "1504 2017-12-24 18:00:00  492.089900\n",
       "1505 2017-12-24 19:00:00  605.523052\n",
       "1506 2017-12-24 20:00:00  611.112486\n",
       "1507 2017-12-24 21:00:00  513.107964\n",
       "1508 2017-12-24 22:00:00  393.997140\n",
       "1509 2017-12-24 23:00:00  263.810411\n",
       "1510 2017-12-25 00:00:00  178.514566\n",
       "1511 2017-12-25 01:00:00   82.268968\n",
       "1512 2017-12-25 02:00:00   34.911879\n",
       "1513 2017-12-25 03:00:00   47.325293\n",
       "1514 2017-12-25 04:00:00   89.908392\n",
       "1515 2017-12-25 05:00:00  146.011597\n",
       "1516 2017-12-25 06:00:00  135.101599\n",
       "1517 2017-12-25 07:00:00  213.739024\n",
       "1518 2017-12-25 08:00:00  293.904825\n",
       "1519 2017-12-25 09:00:00  314.775628\n",
       "1520 2017-12-25 10:00:00  348.544122\n",
       "1521 2017-12-25 11:00:00  404.549241\n",
       "1522 2017-12-25 12:00:00  432.748746\n",
       "1523 2017-12-25 13:00:00  376.118811\n",
       "1524 2017-12-25 14:00:00  411.580010\n",
       "1525 2017-12-25 15:00:00  412.684492\n",
       "1526 2017-12-25 16:00:00  503.356741\n",
       "1527 2017-12-25 17:00:00  488.089338\n",
       "1528 2017-12-25 18:00:00  534.806259\n",
       "1529 2017-12-25 19:00:00  661.878339\n",
       "1530 2017-12-25 20:00:00  693.045611\n",
       "1531 2017-12-25 21:00:00  575.625316\n",
       "1532 2017-12-25 22:00:00  327.712522"
      ]
     },
     "execution_count": 161,
     "metadata": {},
     "output_type": "execute_result"
    }
   ],
   "source": [
    "df_natal_hora"
   ]
  },
  {
   "cell_type": "code",
   "execution_count": 169,
   "metadata": {},
   "outputs": [],
   "source": [
    "df_natal_hora.set_index('DateTime', inplace=True)"
   ]
  },
  {
   "cell_type": "code",
   "execution_count": 170,
   "metadata": {},
   "outputs": [
    {
     "data": {
      "text/plain": [
       "<matplotlib.axes._subplots.AxesSubplot at 0x7f5d6a5fbc90>"
      ]
     },
     "execution_count": 170,
     "metadata": {},
     "output_type": "execute_result"
    },
    {
     "data": {
      "image/png": "[encoded data removed]",
      "text/plain": [
       "<Figure size 432x288 with 1 Axes>"
      ]
     },
     "metadata": {
      "needs_background": "light"
     },
     "output_type": "display_data"
    }
   ],
   "source": [
    "df_natal_hora.plot.bar()"
   ]
  },
  {
   "cell_type": "code",
   "execution_count": 164,
   "metadata": {},
   "outputs": [],
   "source": [
    "df_ny_hora = df_by_hour[(df_by_hour['DateTime'] >= '2017-12-31 18:00:00') & (df_by_hour['DateTime'] < '2018-01-01 23:00:00')]"
   ]
  },
  {
   "cell_type": "code",
   "execution_count": 165,
   "metadata": {},
   "outputs": [
    {
     "data": {
      "text/html": [
       "<div>\n",
       "<style scoped>\n",
       "    .dataframe tbody tr th:only-of-type {\n",
       "        vertical-align: middle;\n",
       "    }\n",
       "\n",
       "    .dataframe tbody tr th {\n",
       "        vertical-align: top;\n",
       "    }\n",
       "\n",
       "    .dataframe thead th {\n",
       "        text-align: right;\n",
       "    }\n",
       "</style>\n",
       "<table border=\"1\" class=\"dataframe\">\n",
       "  <thead>\n",
       "    <tr style=\"text-align: right;\">\n",
       "      <th></th>\n",
       "      <th>DateTime</th>\n",
       "      <th>Traffic</th>\n",
       "    </tr>\n",
       "  </thead>\n",
       "  <tbody>\n",
       "    <tr>\n",
       "      <td>1674</td>\n",
       "      <td>2017-12-31 20:00:00</td>\n",
       "      <td>1065.263109</td>\n",
       "    </tr>\n",
       "    <tr>\n",
       "      <td>1675</td>\n",
       "      <td>2017-12-31 21:00:00</td>\n",
       "      <td>999.163318</td>\n",
       "    </tr>\n",
       "    <tr>\n",
       "      <td>1676</td>\n",
       "      <td>2017-12-31 22:00:00</td>\n",
       "      <td>821.468994</td>\n",
       "    </tr>\n",
       "    <tr>\n",
       "      <td>1698</td>\n",
       "      <td>2018-01-01 20:00:00</td>\n",
       "      <td>812.757781</td>\n",
       "    </tr>\n",
       "    <tr>\n",
       "      <td>1673</td>\n",
       "      <td>2017-12-31 19:00:00</td>\n",
       "      <td>810.261314</td>\n",
       "    </tr>\n",
       "    <tr>\n",
       "      <td>1689</td>\n",
       "      <td>2018-01-01 11:00:00</td>\n",
       "      <td>790.918907</td>\n",
       "    </tr>\n",
       "    <tr>\n",
       "      <td>1672</td>\n",
       "      <td>2017-12-31 18:00:00</td>\n",
       "      <td>757.538907</td>\n",
       "    </tr>\n",
       "    <tr>\n",
       "      <td>1688</td>\n",
       "      <td>2018-01-01 10:00:00</td>\n",
       "      <td>737.419321</td>\n",
       "    </tr>\n",
       "    <tr>\n",
       "      <td>1690</td>\n",
       "      <td>2018-01-01 12:00:00</td>\n",
       "      <td>734.489782</td>\n",
       "    </tr>\n",
       "    <tr>\n",
       "      <td>1699</td>\n",
       "      <td>2018-01-01 21:00:00</td>\n",
       "      <td>712.817106</td>\n",
       "    </tr>\n",
       "    <tr>\n",
       "      <td>1697</td>\n",
       "      <td>2018-01-01 19:00:00</td>\n",
       "      <td>683.611711</td>\n",
       "    </tr>\n",
       "    <tr>\n",
       "      <td>1691</td>\n",
       "      <td>2018-01-01 13:00:00</td>\n",
       "      <td>654.381942</td>\n",
       "    </tr>\n",
       "    <tr>\n",
       "      <td>1693</td>\n",
       "      <td>2018-01-01 15:00:00</td>\n",
       "      <td>627.792994</td>\n",
       "    </tr>\n",
       "    <tr>\n",
       "      <td>1692</td>\n",
       "      <td>2018-01-01 14:00:00</td>\n",
       "      <td>626.374429</td>\n",
       "    </tr>\n",
       "    <tr>\n",
       "      <td>1687</td>\n",
       "      <td>2018-01-01 09:00:00</td>\n",
       "      <td>593.987252</td>\n",
       "    </tr>\n",
       "    <tr>\n",
       "      <td>1686</td>\n",
       "      <td>2018-01-01 08:00:00</td>\n",
       "      <td>575.899242</td>\n",
       "    </tr>\n",
       "    <tr>\n",
       "      <td>1677</td>\n",
       "      <td>2017-12-31 23:00:00</td>\n",
       "      <td>553.281968</td>\n",
       "    </tr>\n",
       "    <tr>\n",
       "      <td>1685</td>\n",
       "      <td>2018-01-01 07:00:00</td>\n",
       "      <td>516.391077</td>\n",
       "    </tr>\n",
       "    <tr>\n",
       "      <td>1696</td>\n",
       "      <td>2018-01-01 18:00:00</td>\n",
       "      <td>512.206038</td>\n",
       "    </tr>\n",
       "    <tr>\n",
       "      <td>1700</td>\n",
       "      <td>2018-01-01 22:00:00</td>\n",
       "      <td>503.786710</td>\n",
       "    </tr>\n",
       "    <tr>\n",
       "      <td>1694</td>\n",
       "      <td>2018-01-01 16:00:00</td>\n",
       "      <td>457.427744</td>\n",
       "    </tr>\n",
       "    <tr>\n",
       "      <td>1695</td>\n",
       "      <td>2018-01-01 17:00:00</td>\n",
       "      <td>445.918638</td>\n",
       "    </tr>\n",
       "    <tr>\n",
       "      <td>1684</td>\n",
       "      <td>2018-01-01 06:00:00</td>\n",
       "      <td>393.784261</td>\n",
       "    </tr>\n",
       "    <tr>\n",
       "      <td>1678</td>\n",
       "      <td>2018-01-01 00:00:00</td>\n",
       "      <td>223.973714</td>\n",
       "    </tr>\n",
       "    <tr>\n",
       "      <td>1683</td>\n",
       "      <td>2018-01-01 05:00:00</td>\n",
       "      <td>135.595173</td>\n",
       "    </tr>\n",
       "    <tr>\n",
       "      <td>1679</td>\n",
       "      <td>2018-01-01 01:00:00</td>\n",
       "      <td>124.628069</td>\n",
       "    </tr>\n",
       "    <tr>\n",
       "      <td>1680</td>\n",
       "      <td>2018-01-01 02:00:00</td>\n",
       "      <td>80.246979</td>\n",
       "    </tr>\n",
       "    <tr>\n",
       "      <td>1681</td>\n",
       "      <td>2018-01-01 03:00:00</td>\n",
       "      <td>48.547137</td>\n",
       "    </tr>\n",
       "    <tr>\n",
       "      <td>1682</td>\n",
       "      <td>2018-01-01 04:00:00</td>\n",
       "      <td>37.704895</td>\n",
       "    </tr>\n",
       "  </tbody>\n",
       "</table>\n",
       "</div>"
      ],
      "text/plain": [
       "                DateTime      Traffic\n",
       "1674 2017-12-31 20:00:00  1065.263109\n",
       "1675 2017-12-31 21:00:00   999.163318\n",
       "1676 2017-12-31 22:00:00   821.468994\n",
       "1698 2018-01-01 20:00:00   812.757781\n",
       "1673 2017-12-31 19:00:00   810.261314\n",
       "1689 2018-01-01 11:00:00   790.918907\n",
       "1672 2017-12-31 18:00:00   757.538907\n",
       "1688 2018-01-01 10:00:00   737.419321\n",
       "1690 2018-01-01 12:00:00   734.489782\n",
       "1699 2018-01-01 21:00:00   712.817106\n",
       "1697 2018-01-01 19:00:00   683.611711\n",
       "1691 2018-01-01 13:00:00   654.381942\n",
       "1693 2018-01-01 15:00:00   627.792994\n",
       "1692 2018-01-01 14:00:00   626.374429\n",
       "1687 2018-01-01 09:00:00   593.987252\n",
       "1686 2018-01-01 08:00:00   575.899242\n",
       "1677 2017-12-31 23:00:00   553.281968\n",
       "1685 2018-01-01 07:00:00   516.391077\n",
       "1696 2018-01-01 18:00:00   512.206038\n",
       "1700 2018-01-01 22:00:00   503.786710\n",
       "1694 2018-01-01 16:00:00   457.427744\n",
       "1695 2018-01-01 17:00:00   445.918638\n",
       "1684 2018-01-01 06:00:00   393.784261\n",
       "1678 2018-01-01 00:00:00   223.973714\n",
       "1683 2018-01-01 05:00:00   135.595173\n",
       "1679 2018-01-01 01:00:00   124.628069\n",
       "1680 2018-01-01 02:00:00    80.246979\n",
       "1681 2018-01-01 03:00:00    48.547137\n",
       "1682 2018-01-01 04:00:00    37.704895"
      ]
     },
     "execution_count": 165,
     "metadata": {},
     "output_type": "execute_result"
    }
   ],
   "source": [
    "df_ny_hora"
   ]
  },
  {
   "cell_type": "code",
   "execution_count": 166,
   "metadata": {},
   "outputs": [],
   "source": [
    "df_ny_hora = df_ny_hora.sort_values(by='DateTime', ascending=True)"
   ]
  },
  {
   "cell_type": "code",
   "execution_count": 167,
   "metadata": {},
   "outputs": [
    {
     "data": {
      "text/html": [
       "<div>\n",
       "<style scoped>\n",
       "    .dataframe tbody tr th:only-of-type {\n",
       "        vertical-align: middle;\n",
       "    }\n",
       "\n",
       "    .dataframe tbody tr th {\n",
       "        vertical-align: top;\n",
       "    }\n",
       "\n",
       "    .dataframe thead th {\n",
       "        text-align: right;\n",
       "    }\n",
       "</style>\n",
       "<table border=\"1\" class=\"dataframe\">\n",
       "  <thead>\n",
       "    <tr style=\"text-align: right;\">\n",
       "      <th></th>\n",
       "      <th>DateTime</th>\n",
       "      <th>Traffic</th>\n",
       "    </tr>\n",
       "  </thead>\n",
       "  <tbody>\n",
       "    <tr>\n",
       "      <td>1672</td>\n",
       "      <td>2017-12-31 18:00:00</td>\n",
       "      <td>757.538907</td>\n",
       "    </tr>\n",
       "    <tr>\n",
       "      <td>1673</td>\n",
       "      <td>2017-12-31 19:00:00</td>\n",
       "      <td>810.261314</td>\n",
       "    </tr>\n",
       "    <tr>\n",
       "      <td>1674</td>\n",
       "      <td>2017-12-31 20:00:00</td>\n",
       "      <td>1065.263109</td>\n",
       "    </tr>\n",
       "    <tr>\n",
       "      <td>1675</td>\n",
       "      <td>2017-12-31 21:00:00</td>\n",
       "      <td>999.163318</td>\n",
       "    </tr>\n",
       "    <tr>\n",
       "      <td>1676</td>\n",
       "      <td>2017-12-31 22:00:00</td>\n",
       "      <td>821.468994</td>\n",
       "    </tr>\n",
       "    <tr>\n",
       "      <td>1677</td>\n",
       "      <td>2017-12-31 23:00:00</td>\n",
       "      <td>553.281968</td>\n",
       "    </tr>\n",
       "    <tr>\n",
       "      <td>1678</td>\n",
       "      <td>2018-01-01 00:00:00</td>\n",
       "      <td>223.973714</td>\n",
       "    </tr>\n",
       "    <tr>\n",
       "      <td>1679</td>\n",
       "      <td>2018-01-01 01:00:00</td>\n",
       "      <td>124.628069</td>\n",
       "    </tr>\n",
       "    <tr>\n",
       "      <td>1680</td>\n",
       "      <td>2018-01-01 02:00:00</td>\n",
       "      <td>80.246979</td>\n",
       "    </tr>\n",
       "    <tr>\n",
       "      <td>1681</td>\n",
       "      <td>2018-01-01 03:00:00</td>\n",
       "      <td>48.547137</td>\n",
       "    </tr>\n",
       "    <tr>\n",
       "      <td>1682</td>\n",
       "      <td>2018-01-01 04:00:00</td>\n",
       "      <td>37.704895</td>\n",
       "    </tr>\n",
       "    <tr>\n",
       "      <td>1683</td>\n",
       "      <td>2018-01-01 05:00:00</td>\n",
       "      <td>135.595173</td>\n",
       "    </tr>\n",
       "    <tr>\n",
       "      <td>1684</td>\n",
       "      <td>2018-01-01 06:00:00</td>\n",
       "      <td>393.784261</td>\n",
       "    </tr>\n",
       "    <tr>\n",
       "      <td>1685</td>\n",
       "      <td>2018-01-01 07:00:00</td>\n",
       "      <td>516.391077</td>\n",
       "    </tr>\n",
       "    <tr>\n",
       "      <td>1686</td>\n",
       "      <td>2018-01-01 08:00:00</td>\n",
       "      <td>575.899242</td>\n",
       "    </tr>\n",
       "    <tr>\n",
       "      <td>1687</td>\n",
       "      <td>2018-01-01 09:00:00</td>\n",
       "      <td>593.987252</td>\n",
       "    </tr>\n",
       "    <tr>\n",
       "      <td>1688</td>\n",
       "      <td>2018-01-01 10:00:00</td>\n",
       "      <td>737.419321</td>\n",
       "    </tr>\n",
       "    <tr>\n",
       "      <td>1689</td>\n",
       "      <td>2018-01-01 11:00:00</td>\n",
       "      <td>790.918907</td>\n",
       "    </tr>\n",
       "    <tr>\n",
       "      <td>1690</td>\n",
       "      <td>2018-01-01 12:00:00</td>\n",
       "      <td>734.489782</td>\n",
       "    </tr>\n",
       "    <tr>\n",
       "      <td>1691</td>\n",
       "      <td>2018-01-01 13:00:00</td>\n",
       "      <td>654.381942</td>\n",
       "    </tr>\n",
       "    <tr>\n",
       "      <td>1692</td>\n",
       "      <td>2018-01-01 14:00:00</td>\n",
       "      <td>626.374429</td>\n",
       "    </tr>\n",
       "    <tr>\n",
       "      <td>1693</td>\n",
       "      <td>2018-01-01 15:00:00</td>\n",
       "      <td>627.792994</td>\n",
       "    </tr>\n",
       "    <tr>\n",
       "      <td>1694</td>\n",
       "      <td>2018-01-01 16:00:00</td>\n",
       "      <td>457.427744</td>\n",
       "    </tr>\n",
       "    <tr>\n",
       "      <td>1695</td>\n",
       "      <td>2018-01-01 17:00:00</td>\n",
       "      <td>445.918638</td>\n",
       "    </tr>\n",
       "    <tr>\n",
       "      <td>1696</td>\n",
       "      <td>2018-01-01 18:00:00</td>\n",
       "      <td>512.206038</td>\n",
       "    </tr>\n",
       "    <tr>\n",
       "      <td>1697</td>\n",
       "      <td>2018-01-01 19:00:00</td>\n",
       "      <td>683.611711</td>\n",
       "    </tr>\n",
       "    <tr>\n",
       "      <td>1698</td>\n",
       "      <td>2018-01-01 20:00:00</td>\n",
       "      <td>812.757781</td>\n",
       "    </tr>\n",
       "    <tr>\n",
       "      <td>1699</td>\n",
       "      <td>2018-01-01 21:00:00</td>\n",
       "      <td>712.817106</td>\n",
       "    </tr>\n",
       "    <tr>\n",
       "      <td>1700</td>\n",
       "      <td>2018-01-01 22:00:00</td>\n",
       "      <td>503.786710</td>\n",
       "    </tr>\n",
       "  </tbody>\n",
       "</table>\n",
       "</div>"
      ],
      "text/plain": [
       "                DateTime      Traffic\n",
       "1672 2017-12-31 18:00:00   757.538907\n",
       "1673 2017-12-31 19:00:00   810.261314\n",
       "1674 2017-12-31 20:00:00  1065.263109\n",
       "1675 2017-12-31 21:00:00   999.163318\n",
       "1676 2017-12-31 22:00:00   821.468994\n",
       "1677 2017-12-31 23:00:00   553.281968\n",
       "1678 2018-01-01 00:00:00   223.973714\n",
       "1679 2018-01-01 01:00:00   124.628069\n",
       "1680 2018-01-01 02:00:00    80.246979\n",
       "1681 2018-01-01 03:00:00    48.547137\n",
       "1682 2018-01-01 04:00:00    37.704895\n",
       "1683 2018-01-01 05:00:00   135.595173\n",
       "1684 2018-01-01 06:00:00   393.784261\n",
       "1685 2018-01-01 07:00:00   516.391077\n",
       "1686 2018-01-01 08:00:00   575.899242\n",
       "1687 2018-01-01 09:00:00   593.987252\n",
       "1688 2018-01-01 10:00:00   737.419321\n",
       "1689 2018-01-01 11:00:00   790.918907\n",
       "1690 2018-01-01 12:00:00   734.489782\n",
       "1691 2018-01-01 13:00:00   654.381942\n",
       "1692 2018-01-01 14:00:00   626.374429\n",
       "1693 2018-01-01 15:00:00   627.792994\n",
       "1694 2018-01-01 16:00:00   457.427744\n",
       "1695 2018-01-01 17:00:00   445.918638\n",
       "1696 2018-01-01 18:00:00   512.206038\n",
       "1697 2018-01-01 19:00:00   683.611711\n",
       "1698 2018-01-01 20:00:00   812.757781\n",
       "1699 2018-01-01 21:00:00   712.817106\n",
       "1700 2018-01-01 22:00:00   503.786710"
      ]
     },
     "execution_count": 167,
     "metadata": {},
     "output_type": "execute_result"
    }
   ],
   "source": [
    "df_ny_hora.set_index"
   ]
  },
  {
   "cell_type": "code",
   "execution_count": 171,
   "metadata": {},
   "outputs": [],
   "source": [
    "df_ny_hora.set_index('DateTime', inplace=True)"
   ]
  },
  {
   "cell_type": "code",
   "execution_count": 172,
   "metadata": {},
   "outputs": [
    {
     "data": {
      "text/plain": [
       "<matplotlib.axes._subplots.AxesSubplot at 0x7f5d6a9dc3d0>"
      ]
     },
     "execution_count": 172,
     "metadata": {},
     "output_type": "execute_result"
    },
    {
     "data": {
      "image/png": "[encoded data removed]",
      "text/plain": [
       "<Figure size 432x288 with 1 Axes>"
      ]
     },
     "metadata": {
      "needs_background": "light"
     },
     "output_type": "display_data"
    }
   ],
   "source": [
    "df_ny_hora.plot.bar()"
   ]
  },
  {
   "cell_type": "code",
   "execution_count": 191,
   "metadata": {},
   "outputs": [],
   "source": [
    "df_by_hour2= df.groupby(['DateTime'])['Traffic'].mean()"
   ]
  },
  {
   "cell_type": "code",
   "execution_count": 208,
   "metadata": {},
   "outputs": [],
   "source": [
    "df_by_hour2 = df_by_hour.reset_index().sort_values(by='DateTime', ascending=True)"
   ]
  },
  {
   "cell_type": "code",
   "execution_count": 215,
   "metadata": {},
   "outputs": [],
   "source": [
    "df_bf_hora = df_by_hour2[(df_by_hour2['DateTime'] >= '2017-11-24 01:00:00') & (df_by_hour2['DateTime'] < '2017-12-25 01:00:00')]"
   ]
  },
  {
   "cell_type": "code",
   "execution_count": 216,
   "metadata": {},
   "outputs": [],
   "source": [
    "df_bf_hora.set_index('DateTime', inplace=True)"
   ]
  },
  {
   "cell_type": "code",
   "execution_count": 217,
   "metadata": {},
   "outputs": [
    {
     "data": {
      "text/plain": [
       "<matplotlib.axes._subplots.AxesSubplot at 0x7f5d69841ed0>"
      ]
     },
     "execution_count": 217,
     "metadata": {},
     "output_type": "execute_result"
    },
    {
     "data": {
      "image/png": "[encoded data removed]",
      "text/plain": [
       "<Figure size 432x288 with 1 Axes>"
      ]
     },
     "metadata": {
      "needs_background": "light"
     },
     "output_type": "display_data"
    }
   ],
   "source": [
    "df_bf_hora.plot.bar()"
   ]
  },
  {
   "cell_type": "code",
   "execution_count": null,
   "metadata": {},
   "outputs": [],
   "source": []
  }
 ],
 "metadata": {
  "kernelspec": {
   "display_name": "Python 3",
   "language": "python",
   "name": "python3"
  },
  "language_info": {
   "codemirror_mode": {
    "name": "ipython",
    "version": 3
   },
   "file_extension": ".py",
   "mimetype": "text/x-python",
   "name": "python",
   "nbconvert_exporter": "python",
   "pygments_lexer": "ipython3",
   "version": "3.6.8"
  }
 },
 "nbformat": 4,
 "nbformat_minor": 2
}
